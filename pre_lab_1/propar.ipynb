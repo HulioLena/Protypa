{
 "cells": [
  {
   "cell_type": "markdown",
   "metadata": {},
   "source": [
    "##  Προπαρασκευαστική εργασία\n",
    "\n",
    "###  Ελίζα Μηλιώνη (03114125)\n",
    "### Λένα Φωτάκη (03114793)"
   ]
  },
  {
   "cell_type": "markdown",
   "metadata": {},
   "source": [
    "## Ερώτημα 1\n",
    "\n",
    "Στο βήμα αυτό, κάνουμε εισαγωγή των δεδομένων που μας δίνονται χρησιμοποιώντας πίνακες numpy."
   ]
  },
  {
   "cell_type": "code",
   "execution_count": 2,
   "metadata": {},
   "outputs": [],
   "source": [
    "import numpy as np\n",
    "import matplotlib.pyplot as plt\n",
    "import pprint\n",
    "\n",
    "#erwtima 1\n",
    "y_train = np.loadtxt(\"/home/eliza/train.txt\", delimiter=\" \", usecols=[0])\n",
    "y_test  = np.loadtxt(\"/home/eliza/test.txt\", delimiter=\" \", usecols=[0])\n",
    "X_train = np.loadtxt(\"/home/eliza/train.txt\", delimiter=\" \", usecols=range(1,257))\n",
    "X_test  = np.loadtxt(\"/home/eliza/test.txt\", delimiter=\" \", usecols=range(1,257))\n"
   ]
  },
  {
   "cell_type": "markdown",
   "metadata": {},
   "source": [
    "## Ερώτημα 2\n",
    "Το ψηφίο 131 βρίσκεται στην γραμμή 130 του πίνακα X_train.\n",
    "Τετραγωνίζουμε την γραμμή X_train σε πίνακα 16χ16 και εμφανίζουμε."
   ]
  },
  {
   "cell_type": "code",
   "execution_count": 3,
   "metadata": {},
   "outputs": [
    {
     "data": {
      "text/plain": [
       "<matplotlib.image.AxesImage at 0x7f1e256ae9e8>"
      ]
     },
     "execution_count": 3,
     "metadata": {},
     "output_type": "execute_result"
    },
    {
     "data": {
      "image/png": "[encoded data removed]",
      "text/plain": [
       "<Figure size 432x288 with 1 Axes>"
      ]
     },
     "metadata": {
      "needs_background": "light"
     },
     "output_type": "display_data"
    }
   ],
   "source": [
    "digit131 = X_train[130]\n",
    "digit131sq = np.reshape(digit131, (16, 16))\n",
    "plt.imshow(digit131sq)"
   ]
  },
  {
   "cell_type": "markdown",
   "metadata": {},
   "source": [
    "## Ερώτημα 3\n",
    "\n",
    "Για να βρούμε τα 10 labels χρησιμοποιούμε τον πίνακα y_train, εντοπίζουμε τα 10 ψηφία σε κάποια θέση και κρατάμε το index τους καθώς είναι αντίστοιχο με τον πίνακα X_train, τον οποίο χρησιμοποιούμε για την εμφάνιση του ψηφίου.\n",
    "\n"
   ]
  },
  {
   "cell_type": "code",
   "execution_count": 4,
   "metadata": {},
   "outputs": [
    {
     "data": {
      "image/png": "[encoded data removed]",
      "text/plain": [
       "<Figure size 432x288 with 10 Axes>"
      ]
     },
     "metadata": {
      "needs_background": "light"
     },
     "output_type": "display_data"
    }
   ],
   "source": [
    "#3\n",
    "i=0\n",
    "while(i < 10):\n",
    "    plt.figure()\n",
    "    for index, number in enumerate(y_train):\n",
    "        if(int(number) == i):\n",
    "            digit = X_train[index]\n",
    "            digitsq = np.reshape(digit, (16, 16))\n",
    "            ax = plt.subplot(2, 5, i+1)\n",
    "            ax.imshow(digitsq)\n",
    "            i = i +1"
   ]
  },
  {
   "cell_type": "markdown",
   "metadata": {},
   "source": [
    "## Ερώτημα 4\n",
    "\n",
    "Στο ερώτημα αυτό, εντοπίζουμε όλα τα μηδενικά που υπάρχουν στα δεδομένα μας, από όλα αυτά παίρνουμε το pixel (10,10)  ή γραμμικά το στοιχείο 9*16+10 και βρίσκουμε την μέση τιμή  με τη βοήθεια του mean  από την βιβλιοθήκη numpy\n"
   ]
  },
  {
   "cell_type": "code",
   "execution_count": 5,
   "metadata": {},
   "outputs": [
    {
     "name": "stdout",
     "output_type": "stream",
     "text": [
      "-0.6612889447236181\n"
     ]
    }
   ],
   "source": [
    "#erwtima 4\n",
    "dig0_10_10 = []\n",
    "for index, number in enumerate(y_train):\n",
    "        if(number == 0):\n",
    "            pixel_1010= 9*16+10   #9 grammi,9 stili\n",
    "            dig0_10_10.append(X_train[index,pixel_1010])\n",
    "print(np.mean(dig0_10_10))    #mesi timi"
   ]
  },
  {
   "cell_type": "markdown",
   "metadata": {},
   "source": [
    "## Ερώτημα 5\n",
    "\n",
    "Κάνουμε την ίδια διαδικασία με το ερώτημα 4, απλά τώρα εφαρμόζουμε το variance  από την βιβλιοθήκη numpy"
   ]
  },
  {
   "cell_type": "code",
   "execution_count": 6,
   "metadata": {},
   "outputs": [
    {
     "name": "stdout",
     "output_type": "stream",
     "text": [
      "0.4097315840151343\n"
     ]
    }
   ],
   "source": [
    "#erwtima 5\n",
    "print(np.var(dig0_10_10))    #diaspora"
   ]
  },
  {
   "cell_type": "markdown",
   "metadata": {},
   "source": [
    "## Ερώτημα 6\n",
    "\n",
    "Γίνεται πάλι η ίδια διαδικασία, όμως τώρα γίνεται για όλα τα pixels για το σύνολο των μηδενικών"
   ]
  },
  {
   "cell_type": "code",
   "execution_count": 7,
   "metadata": {
    "scrolled": true
   },
   "outputs": [
    {
     "name": "stdout",
     "output_type": "stream",
     "text": [
      "-0.6612889447236181\n",
      "0.4097315840151343\n"
     ]
    }
   ],
   "source": [
    "#6\n",
    "allpixels = []\n",
    "mesi_timi = []\n",
    "diaspora = []\n",
    "for pixel in range(0,256):\n",
    "    index = 0\n",
    "    allpixels = []\n",
    "    for index, number in enumerate(y_train):\n",
    "            if(number == 0):\n",
    "                allpixels.append(X_train[index,pixel])    \n",
    "    mesi_timi.append(np.mean(allpixels))\n",
    "    diaspora.append(np.var(allpixels))\n",
    "\n",
    "print(mesi_timi[9*16+10])\n",
    "print(diaspora[9*16+10])\n",
    "mesi_timi_arr = np.asarray(mesi_timi)\n",
    "mesi_timi_arr = mesi_timi_arr.reshape(1,-1)\n",
    "\n",
    "   \n"
   ]
  },
  {
   "cell_type": "markdown",
   "metadata": {},
   "source": [
    "## Ερώτημα 7"
   ]
  },
  {
   "cell_type": "code",
   "execution_count": 8,
   "metadata": {},
   "outputs": [
    {
     "data": {
      "text/plain": [
       "<matplotlib.image.AxesImage at 0x7f1e1f97ba90>"
      ]
     },
     "execution_count": 8,
     "metadata": {},
     "output_type": "execute_result"
    },
    {
     "data": {
      "image/png": "[encoded data removed]",
      "text/plain": [
       "<Figure size 432x288 with 1 Axes>"
      ]
     },
     "metadata": {
      "needs_background": "light"
     },
     "output_type": "display_data"
    }
   ],
   "source": [
    "#7\n",
    "mesi_timi_arr = np.asarray(mesi_timi)\n",
    "digit0 = mesi_timi_arr\n",
    "digit0square= np.reshape(digit0,(16,16))\n",
    "plt.imshow(digit0square)\n",
    "\n"
   ]
  },
  {
   "cell_type": "markdown",
   "metadata": {},
   "source": [
    "## Ερώτημα 8\n",
    "\n",
    "Παρατηρούμε ότι η κατασκευή του ψηφίου με τις τιμές διασποράς τείνει να συσσωρεύεται γύρω από τις τιμές της μέσης τιμής, κάτι το οποίο είναι λογικό γιατί η διασπορά δείχνει τις αποστάσεις των τιμών που έχουμε γύρω από την μέση τιμή."
   ]
  },
  {
   "cell_type": "code",
   "execution_count": 9,
   "metadata": {},
   "outputs": [
    {
     "data": {
      "text/plain": [
       "<matplotlib.image.AxesImage at 0x7f1e1f86a208>"
      ]
     },
     "execution_count": 9,
     "metadata": {},
     "output_type": "execute_result"
    },
    {
     "data": {
      "image/png": "[encoded data removed]",
      "text/plain": [
       "<Figure size 432x288 with 1 Axes>"
      ]
     },
     "metadata": {
      "needs_background": "light"
     },
     "output_type": "display_data"
    }
   ],
   "source": [
    "#8\n",
    "diaspora_arr = np.asarray(diaspora)\n",
    "digit0var = diaspora_arr\n",
    "digit0vs= np.reshape(digit0var,(16,16))\n",
    "plt.imshow(digit0vs)"
   ]
  },
  {
   "cell_type": "markdown",
   "metadata": {},
   "source": [
    "## Ερώτημα 9"
   ]
  },
  {
   "cell_type": "code",
   "execution_count": 10,
   "metadata": {},
   "outputs": [
    {
     "data": {
      "image/png": "[encoded data removed]",
      "text/plain": [
       "<Figure size 432x288 with 10 Axes>"
      ]
     },
     "metadata": {
      "needs_background": "light"
     },
     "output_type": "display_data"
    },
    {
     "data": {
      "image/png": "[encoded data removed]",
      "text/plain": [
       "<Figure size 432x288 with 10 Axes>"
      ]
     },
     "metadata": {
      "needs_background": "light"
     },
     "output_type": "display_data"
    }
   ],
   "source": [
    "#9a\n",
    "mesi_timi = []\n",
    "diaspora = []\n",
    "allpixels = []\n",
    "initpix = []\n",
    "\n",
    "i=0\n",
    "while i < 10:\n",
    "    mesi_timi.append([])\n",
    "    diaspora.append([])\n",
    "    allpixels.append([])\n",
    "    i=i+1\n",
    "\n",
    "for i in range(0,10):\n",
    "    for j in range(0,256):\n",
    "        mesi_timi[i].append([])\n",
    "        diaspora[i].append([])\n",
    "        \n",
    "for pixel in range(0,256):\n",
    "    i=0\n",
    "    while i <10:\n",
    "        allpixels[i].clear()\n",
    "        i=i+1\n",
    "    for index, number in enumerate(y_train):\n",
    "        allpixels[int(number)].append(X_train[index,pixel])\n",
    "    for i in range(0,10):\n",
    "        mesi_timi[i][pixel].append(np.mean(allpixels[i]))\n",
    "        diaspora[i][pixel].append(np.var(allpixels[i]))\n",
    "\n",
    "#9b\n",
    "plt.figure()\n",
    "i=0\n",
    "while(i < 10):\n",
    "    mesi_timi_arr = np.asarray(mesi_timi[i])\n",
    "    digit = mesi_timi_arr\n",
    "    digitsq = np.reshape(digit, (16, 16))\n",
    "    ax = plt.subplot(2, 5, i+1)\n",
    "    ax.imshow(digitsq)\n",
    "    i = i +1\n",
    "\n",
    "plt.figure()\n",
    "i=0\n",
    "while(i < 10):\n",
    "    mesi_timi_arr = np.asarray(diaspora[i])\n",
    "    digit = mesi_timi_arr\n",
    "    digitsq = np.reshape(digit, (16, 16))\n",
    "    ax = plt.subplot(2, 5, i+1)\n",
    "    ax.imshow(digitsq)\n",
    "    i = i +1\n"
   ]
  },
  {
   "cell_type": "markdown",
   "metadata": {},
   "source": [
    "## Ερώτημα 10\n",
    "\n",
    "Η ταξινόμηση δεν ήταν επιτυχής"
   ]
  },
  {
   "cell_type": "code",
   "execution_count": 11,
   "metadata": {},
   "outputs": [
    {
     "name": "stdout",
     "output_type": "stream",
     "text": [
      "[[ 8.59809045]\n",
      " [18.15102734]\n",
      " [13.47875205]\n",
      " [12.99967179]\n",
      " [15.31949159]\n",
      " [12.41041612]\n",
      " [13.36656628]\n",
      " [16.15177897]\n",
      " [14.84056653]\n",
      " [15.56945758]]\n",
      "8.0\n",
      "0\n"
     ]
    }
   ],
   "source": [
    "#10\n",
    "from sklearn.metrics.pairwise import euclidean_distances\n",
    "\n",
    "digit101 = X_test[100]\n",
    "digit101 = digit101.reshape(1,-1)\n",
    "\n",
    "#digit101sq = np.reshape(digit101, (16, 16))\n",
    "#plt.imshow(digit101sq)\n",
    "d = []\n",
    "for i in range(0, 10):\n",
    "    mt_arr = []\n",
    "    mt_arr = np.hstack(mesi_timi[i])\n",
    "    mt_arr = mt_arr.reshape(1,-1)\n",
    "    d.append(euclidean_distances(mt_arr, digit101))\n",
    "\n",
    "dist = np.vstack(d)    \n",
    "print(dist)\n",
    "\n",
    "min = dist[0]\n",
    "t = 0\n",
    "for i in range (1,10):\n",
    "    if(min > dist[i]):\n",
    "        min = dist[i]\n",
    "        t = i\n",
    "print(y_train[100])\n",
    "print(t)"
   ]
  },
  {
   "cell_type": "markdown",
   "metadata": {},
   "source": [
    "## Ερώτημα 11\n",
    "\n",
    "Το ποσοστό επιτυχίας είναι 81.41504733432984 % για την μέση τιμή\n",
    "και 17.887394120577977 % για την διασπορά"
   ]
  },
  {
   "cell_type": "code",
   "execution_count": 12,
   "metadata": {},
   "outputs": [],
   "source": [
    "#11a\n",
    "import sys\n",
    "\n",
    "ans = []\n",
    "for i in range (0,len(X_test)):\n",
    "    digit = X_test[i]\n",
    "    #digitsq = np.reshape(digit, (16, 16))\n",
    "    #plt.imshow(digitsq)\n",
    "    digit = digit.reshape(1,-1)\n",
    "    min = sys.maxsize\n",
    "    for j in range(0, 10):\n",
    "        mt_arr = []\n",
    "        mt_arr = np.hstack(mesi_timi[j])\n",
    "        mt_arr = mt_arr.reshape(1,-1)\n",
    "        if(min > euclidean_distances(mt_arr, digit)):\n",
    "            min = euclidean_distances(mt_arr, digit)\n",
    "            t =  j\n",
    "    ans.append(t)\n"
   ]
  },
  {
   "cell_type": "code",
   "execution_count": 13,
   "metadata": {},
   "outputs": [
    {
     "name": "stdout",
     "output_type": "stream",
     "text": [
      "81.41504733432984\n"
     ]
    }
   ],
   "source": [
    "#11b\n",
    "y_test = y_test.reshape(1,-1)\n",
    "y_train = y_train.reshape(1,-1)\n",
    "y_testlist = y_test.tolist()\n",
    "\n",
    "cnt = 0\n",
    "for i in range (0,len(ans)):\n",
    "    if(ans[i] == y_testlist[0][i]):\n",
    "            cnt = cnt+1\n",
    "succ = (cnt / len(ans)) *100\n",
    "print(succ)\n",
    "\n"
   ]
  },
  {
   "cell_type": "code",
   "execution_count": 14,
   "metadata": {},
   "outputs": [
    {
     "name": "stdout",
     "output_type": "stream",
     "text": [
      "17.887394120577977\n"
     ]
    }
   ],
   "source": [
    "#11 me var\n",
    "import sys\n",
    "\n",
    "ans = []\n",
    "for i in range (0,len(X_test)):\n",
    "    digit = X_test[i]\n",
    "    #digitsq = np.reshape(digit, (16, 16))\n",
    "    #plt.imshow(digitsq)\n",
    "    digit = digit.reshape(1,-1)\n",
    "    max = 0\n",
    "    for i in range(0, 10):\n",
    "        cov_arr = []\n",
    "        cov_arr = np.hstack(diaspora[i])\n",
    "        cov_arr = mt_arr.reshape(1,-1)\n",
    "        if(max < euclidean_distances(cov_arr, digit)):\n",
    "            max = euclidean_distances(cov_arr, digit)\n",
    "            t =  i\n",
    "    ans.append(t)\n",
    "    \n",
    "y_test = y_test.reshape(1,-1)\n",
    "y_testlist = y_test.tolist()\n",
    "\n",
    "cnt = 0\n",
    "for i in range (0,len(ans)):\n",
    "    if(ans[i] == y_testlist[0][i]):\n",
    "            cnt = cnt+1\n",
    "succ = (cnt / len(ans)) *100\n",
    "print(succ)"
   ]
  },
  {
   "cell_type": "markdown",
   "metadata": {},
   "source": [
    "## Ερώτημα 12\n",
    "\n",
    "Στον classifier αρχικά προσπαθήσαμε να βάλουμε τα παραπάνω ερωτήματα στις μεθόδους fit, predict  και score όπου γίνεται ο υπολογισμός της μέσης τιμής, η πρόβλεψη για το πιο ψηφίο είναι και το score επιτυχίας αντίστοιχα. Ωστόσο επειδή μας δημιουργήθηκαν προβλήματα με τις λίστες που χρησιμοποιήσαμε, το ξαναφτιάξαμε από την αρχή με arrays και υλοποιήσαμε χειροκίνητα την μέση τιμή και την ευκλείδια απόσταση."
   ]
  },
  {
   "cell_type": "code",
   "execution_count": 15,
   "metadata": {},
   "outputs": [],
   "source": [
    "#12\n",
    "from sklearn.base import BaseEstimator, ClassifierMixin\n",
    "\n",
    "class EuclideanClassifier(BaseEstimator, ClassifierMixin):  \n",
    "    \"\"\"Classify samples based on the distance from the mean feature value\"\"\"\n",
    "\n",
    "    def __init__(self):\n",
    "        self.X_mean_ = None\n",
    "        #self.predictions_ = None\n",
    "        #self.score = None\n",
    "\n",
    "    def fit(self, X, y):\n",
    "        \n",
    "        pointsSum = np.zeros((10,X[0].shape[0]))\n",
    "        #How many times each number occurs\n",
    "        howManyDigits = np.zeros(10)\n",
    "\n",
    "        for i in range(y.shape[0]):\n",
    "            #Reshaping X_train data\n",
    "            #X_trainSq = np.reshape(X_train[i],(16,16))\n",
    "            #Which number are we talking about\n",
    "            k = int(y[i])\n",
    "            howManyDigits[k] = howManyDigits[k] + 1\n",
    "            for j in range(X[0].shape[0]):\n",
    "                #Finding the summary\n",
    "                pointsSum[k][j] += X[i][j]\n",
    "\n",
    "        self.X_mean_ = np.zeros((10,X[0].shape[0]))\n",
    "\n",
    "        for i in range(10):\n",
    "            for j in range(X[0].shape[0]):\n",
    "                if(howManyDigits[i] == 0):\n",
    "                    self.X_mean_[i][j] = 0\n",
    "                else:\n",
    "                    self.X_mean_[i][j] = pointsSum[i][j]/howManyDigits[i]\n",
    "        \n",
    "        return self\n",
    "\n",
    "\n",
    "    def predict(self, X):\n",
    "        predictions = np.zeros(X.shape[0])\n",
    "        for i in range(X.shape[0]):\n",
    "            distances = np.zeros(10)\n",
    "            for j in range(10):\n",
    "                mean = np.reshape(self.X_mean_[j],(1,-1))\n",
    "                distances[j]= euclidean_distances(mean,np.reshape(X[i],(1,-1)))\n",
    "                \n",
    "            min1 = distances[0]\n",
    "            posMin =0\n",
    "            for j in range (10):\n",
    "                if distances[j]<min1:\n",
    "                    min1 = distances[j]\n",
    "                    posMin = j\n",
    "            predictions[i] = posMin\n",
    "        return predictions\n",
    "        \n",
    "    def score(self, X, y):\n",
    "        predictions = self.predict(X)\n",
    "        percentage = 0;\n",
    "        for i in range (y.shape[0]):\n",
    "            if (predictions[i]==int(y[i])):\n",
    "                percentage +=1\n",
    "        return  (percentage/y.shape[0])"
   ]
  },
  {
   "cell_type": "code",
   "execution_count": 234,
   "metadata": {},
   "outputs": [
    {
     "data": {
      "text/plain": [
       "0.8141504733432985"
      ]
     },
     "execution_count": 234,
     "metadata": {},
     "output_type": "execute_result"
    }
   ],
   "source": [
    "new = EuclideanClassifier()\n",
    "y_train = np.loadtxt(\"/home/eliza/train.txt\", delimiter=\" \", usecols=[0])\n",
    "y_test  = np.loadtxt(\"/home/eliza/test.txt\", delimiter=\" \", usecols=[0])\n",
    "X_train = np.loadtxt(\"/home/eliza/train.txt\", delimiter=\" \", usecols=range(1,257))\n",
    "X_test  = np.loadtxt(\"/home/eliza/test.txt\", delimiter=\" \", usecols=range(1,257))\n",
    "\n",
    "# X1 = np.concatenate((X_train, X_test))\n",
    "# y1 = np.concatenate((y_train, y_test),axis=1)\n",
    "new.fit(X_train,y_train)\n",
    "new.predict(X_train)\n",
    "\n",
    "new.score(X_test, y_test)"
   ]
  },
  {
   "cell_type": "markdown",
   "metadata": {},
   "source": [
    "## Ερώτημα 13\n",
    "\n",
    "Στο ερώτημα 13β, πήραμε δύο τυχαία pixels ως feautures και για αυτό το classification δεν είναι καθόλου αντιπροσωπευτικό και δεν είναι διακριτές οι 10 κατηγορίες (το ποσοστό επιτυχίας είναι μόνο 16%). Αν διαλέγαμε τα διανύσματα με την μέθοδο  PCA το ποσοστό επιτυχίας θα ήταν μεγαλύτερο."
   ]
  },
  {
   "cell_type": "code",
   "execution_count": 180,
   "metadata": {},
   "outputs": [
    {
     "name": "stdout",
     "output_type": "stream",
     "text": [
      "84.07163638677287\n"
     ]
    }
   ],
   "source": [
    "#13a\n",
    "from sklearn.model_selection import cross_val_score\n",
    "from sklearn.model_selection import KFold\n",
    "\n",
    "#print(X_train.shape, X_test.shape, y_train.shape, y_test.shape)\n",
    "X = np.concatenate((X_train, X_test))\n",
    "y = np.concatenate((y_train, y_test))\n",
    "\n",
    "#print(X.shape,y_new.shape)\n",
    "scores = cross_val_score(EuclideanClassifier(), X, y, cv = KFold(n_splits = 5, random_state = 42), scoring = \"accuracy\")\n",
    "msc = np.mean(scores)\n",
    "print(msc*100)"
   ]
  },
  {
   "cell_type": "code",
   "execution_count": 181,
   "metadata": {},
   "outputs": [],
   "source": [
    "#13b\n",
    "\n",
    "def plot_clf(clf, X, y, labels):\n",
    "    colors = ['r', 'g', 'b', 'm', 'y', 'salmon', 'khaki', 'k', 'teal','white','pink']\n",
    "    fig, ax = plt.subplots()\n",
    "    # title for the plots\n",
    "    title = ('Decision surface of Classifier')\n",
    "    # Set-up grid for plotting.\n",
    "    X0, X1 = X[:, 0], X[:, 1]\n",
    "    \n",
    "    x_min, x_max = X0.min() - 1, X0.max() + 1\n",
    "    y_min, y_max = X1.min() - 1, X1.max() + 1\n",
    "    xx, yy = np.meshgrid(np.arange(x_min, x_max, .05),np.arange(y_min, y_max, .05))\n",
    "    \n",
    "    Z = clf.predict(np.c_[xx.ravel(), yy.ravel()]) #pinaka 1Xplithos twn dedomenwn\n",
    "    Z = Z.reshape(xx.shape)\n",
    "    out = ax.contourf(xx, yy, Z, cmap=plt.cm.coolwarm, alpha=0.8)\n",
    "    \n",
    "    for i in range(0,10):\n",
    "        ax.scatter(X0[y == float(i)], X1[y == float(i)],c= colors[i], \n",
    "                   label=labels[i],s=60, alpha=0.9, edgecolors='k')\n",
    "        \n",
    "#     ax.set_ylabel(labels[1])\n",
    "#     ax.set_xlabel(labels[0])\n",
    "    ax.set_xticks(())\n",
    "    ax.set_yticks(())\n",
    "    ax.set_title(title)\n",
    "    ax.legend()\n",
    "    plt.show()\n",
    "\n"
   ]
  },
  {
   "cell_type": "code",
   "execution_count": 182,
   "metadata": {},
   "outputs": [
    {
     "data": {
      "image/png": "[encoded data removed]",
      "text/plain": [
       "<Figure size 432x288 with 1 Axes>"
      ]
     },
     "metadata": {},
     "output_type": "display_data"
    },
    {
     "data": {
      "text/plain": [
       "0.1602495160249516"
      ]
     },
     "execution_count": 182,
     "metadata": {},
     "output_type": "execute_result"
    }
   ],
   "source": [
    "clf = EuclideanClassifier()\n",
    "clf.fit(X[:,0:2], y)\n",
    "labels = []\n",
    "for i in range(0,10):\n",
    "    labels.append(float(i))\n",
    "\n",
    "plot_clf(clf, X[:,1:3], y, labels)\n",
    "clf.score(X[:,1:3],y)\n"
   ]
  },
  {
   "cell_type": "code",
   "execution_count": 183,
   "metadata": {},
   "outputs": [
    {
     "data": {
      "text/plain": [
       "<module 'matplotlib.pyplot' from '/home/eliza/anaconda3/lib/python3.6/site-packages/matplotlib/pyplot.py'>"
      ]
     },
     "execution_count": 183,
     "metadata": {},
     "output_type": "execute_result"
    },
    {
     "data": {
      "image/png": "[encoded data removed]",
      "text/plain": [
       "<Figure size 432x288 with 1 Axes>"
      ]
     },
     "metadata": {
      "needs_background": "light"
     },
     "output_type": "display_data"
    }
   ],
   "source": [
    "#13c\n",
    "from sklearn.model_selection import learning_curve\n",
    "\n",
    "train_sizes, train_scores, test_scores = learning_curve(EuclideanClassifier(), X, y, cv=5, n_jobs=-1,\n",
    "                                                        train_sizes=np.linspace(0.1, 1.0, 5))\n",
    "\n",
    "\n",
    "import matplotlib.pyplot as plt \n",
    "\n",
    "def plot_learning_curve(train_scores, test_scores, train_sizes, ylim=(0, 1)):\n",
    "    plt.figure()\n",
    "    plt.title(\"Learning Curve\")\n",
    "    if ylim is not None:\n",
    "        plt.ylim(*ylim)\n",
    "    plt.xlabel(\"Training examples\")\n",
    "    plt.ylabel(\"Score\")\n",
    "\n",
    "    train_scores_mean = np.mean(train_scores, axis=1)\n",
    "    train_scores_std = np.std(train_scores, axis=1)\n",
    "    test_scores_mean = np.mean(test_scores, axis=1)\n",
    "    test_scores_std = np.std(test_scores, axis=1)\n",
    "    plt.grid()\n",
    "\n",
    "    plt.fill_between(train_sizes, train_scores_mean - train_scores_std,\n",
    "                     train_scores_mean + train_scores_std, alpha=0.1,\n",
    "                     color=\"r\")\n",
    "    plt.fill_between(train_sizes, test_scores_mean - test_scores_std,\n",
    "                     test_scores_mean + test_scores_std, alpha=0.1, color=\"g\")\n",
    "    plt.plot(train_sizes, train_scores_mean, 'o-', color=\"r\",\n",
    "             label=\"Training score\")\n",
    "    plt.plot(train_sizes, test_scores_mean, 'o-', color=\"g\",\n",
    "             label=\"Cross-validation score\")\n",
    "\n",
    "    plt.legend(loc=\"best\")\n",
    "    return plt\n",
    "\n",
    "plot_learning_curve(train_scores, test_scores, train_sizes, ylim=(.6, 1))\n",
    "\n"
   ]
  },
  {
   "cell_type": "markdown",
   "metadata": {},
   "source": [
    "# Ερώτημα 14,15\n",
    "\n",
    "Οι apriori πιθανότητες υπολογίστηκαν μέσα στη μέθοδο fit του classifier. O classifier κάνει το predict σύμφωνα με τη συνάρτηση maximum likelihood. Παρατηρούμε ότι ο ταξινομητής μας βγάζει καλυτερο score απο του scikit learn αλλά είναι πολύ πιο αργός."
   ]
  },
  {
   "cell_type": "code",
   "execution_count": 184,
   "metadata": {},
   "outputs": [],
   "source": [
    "#14, 15a\n",
    "\n",
    "from sklearn.base import BaseEstimator, ClassifierMixin\n",
    "import math\n",
    "\n",
    "class BayesianClassifier(BaseEstimator, ClassifierMixin):  \n",
    "    \"\"\"Classify samples based on the distance from the distribution via mean and standard deviation\"\"\"\n",
    "\n",
    "    def __init__(self):\n",
    "        self.X_mean_ = None\n",
    "        self.X_sd_ = None\n",
    "        self.X_ap_ = None\n",
    "\n",
    "    def fit(self, X, y):\n",
    "        pointsSum = np.zeros((10,X[0].shape[0]))\n",
    "        howManyDigits = np.zeros(10)\n",
    "\n",
    "        for i in range(y.shape[0]):\n",
    "            k = int(y[i])\n",
    "            howManyDigits[k] = howManyDigits[k] + 1\n",
    "            for j in range(X[0].shape[0]):\n",
    "                #Finding the summary\n",
    "                pointsSum[k][j] += X[i][j]\n",
    "\n",
    "        self.X_mean_ = np.zeros((10,X[0].shape[0]))\n",
    "        for i in range(10):\n",
    "            for j in range(X[0].shape[0]):\n",
    "                if(howManyDigits[i] == 0):\n",
    "                    self.X_mean_[i][j] = 0\n",
    "                else:\n",
    "                    self.X_mean_[i][j] = pointsSum[i][j]/howManyDigits[i]\n",
    "        \n",
    "        self.X_sd_ = np.zeros((10,X[0].shape[0]))\n",
    "        tmp = np.zeros((10,X[0].shape[0]))\n",
    "        for index,number in enumerate(y):#gia ola ta deigmata\n",
    "            for j in range(0,X[0].shape[0]):#gia ola ta features\n",
    "                tmp[int(number)][j] += (X[index][j]-self.X_mean_[int(number)][j])**2\n",
    "                \n",
    "        for i in range(10):\n",
    "            for j in range(X[0].shape[0]):\n",
    "                self.X_sd_[i][j] = math.sqrt(tmp[i][j]/howManyDigits[i])\n",
    "        \n",
    "        self.X_ap_ = np.zeros(10)\n",
    "        \n",
    "        for i in range(10):\n",
    "            self.X_ap_[i] = howManyDigits[i]/y.shape[0]\n",
    "                    \n",
    "        return self\n",
    "\n",
    "\n",
    "    def predict(self, X):\n",
    "        \n",
    "        a_post = np.zeros((X.shape[0]))\n",
    "        cdg = np.zeros((X.shape[0]))\n",
    "        for i in range(X.shape[0]):#gia kathe sample eisodou\n",
    "            probs = np.zeros(10)\n",
    "            for j in range(10):#gia kathe digit \n",
    "                a = 0\n",
    "                for k in range(X[0].shape[0]):#gia ola ta pixel\n",
    "                    cons = 0\n",
    "                    tmp = 0\n",
    "                    if (self.X_sd_[j][k] == 0):\n",
    "                        pass\n",
    "                    else:\n",
    "                        cons = (math.sqrt(2*math.pi)*self.X_sd_[j][k])\n",
    "                        tmp = -(X[i][k]-self.X_mean_[j][k])**2 / (2 * (self.X_sd_[j][k])**2) -math.log(cons)\n",
    "                        a += tmp\n",
    "                #print(a, self.X_ap_[j])\n",
    "                probs[j] =a + math.log(self.X_ap_[j])\n",
    "\n",
    "            cdg[i] = np.argmax(probs)\n",
    "        return cdg\n",
    "\n",
    "    def score(self, X, y):\n",
    "        predictions = self.predict(X)\n",
    "        percentage = 0;\n",
    "        for i in range (y.shape[0]):\n",
    "            if (predictions[i]==int(y[i])):\n",
    "                percentage +=1\n",
    "        return  (percentage/y.shape[0])\n"
   ]
  },
  {
   "cell_type": "code",
   "execution_count": 185,
   "metadata": {},
   "outputs": [
    {
     "name": "stdout",
     "output_type": "stream",
     "text": [
      "0.7757847533632287\n"
     ]
    }
   ],
   "source": [
    "#15b\n",
    "new = BayesianClassifier()\n",
    "new.fit(X_train, y_train)\n",
    "# new.predict(X_test)\n",
    "print(new.score(X_test,y_test))"
   ]
  },
  {
   "cell_type": "code",
   "execution_count": 186,
   "metadata": {},
   "outputs": [
    {
     "name": "stdout",
     "output_type": "stream",
     "text": [
      "0.7194818136522172\n"
     ]
    }
   ],
   "source": [
    "#15c\n",
    "from sklearn.naive_bayes import GaussianNB\n",
    "\n",
    "sk = GaussianNB()\n",
    "sk.fit(X_train, y_train)\n",
    "print(sk.score(X_test, y_test))\n"
   ]
  },
  {
   "cell_type": "markdown",
   "metadata": {},
   "source": [
    "# Έρωτημα 16"
   ]
  },
  {
   "cell_type": "code",
   "execution_count": 187,
   "metadata": {},
   "outputs": [],
   "source": [
    "#16\n",
    "\n",
    "from sklearn.base import BaseEstimator, ClassifierMixin\n",
    "import math\n",
    "\n",
    "class BayesianClassifier1(BaseEstimator, ClassifierMixin):  \n",
    "    \"\"\"Classify samples based on the distance from the distribution via mean and standard deviation\"\"\"\n",
    "\n",
    "    def __init__(self):\n",
    "        self.X_mean_ = None\n",
    "        self.X_sd_ = None\n",
    "        self.X_ap_ = None\n",
    "\n",
    "    def fit(self, X, y):\n",
    "        pointsSum = np.zeros((10,X[0].shape[0]))\n",
    "        howManyDigits = np.zeros(10)\n",
    "\n",
    "        for i in range(y.shape[0]):\n",
    "            k = int(y[i])\n",
    "            howManyDigits[k] = howManyDigits[k] + 1\n",
    "            for j in range(X[0].shape[0]):\n",
    "                #Finding the summary\n",
    "                pointsSum[k][j] += X[i][j]\n",
    "\n",
    "        self.X_mean_ = np.zeros((10,X[0].shape[0]))\n",
    "        for i in range(10):\n",
    "            for j in range(X[0].shape[0]):\n",
    "                if(howManyDigits[i] == 0):\n",
    "                    self.X_mean_[i][j] = 0\n",
    "                else:\n",
    "                    self.X_mean_[i][j] = pointsSum[i][j]/howManyDigits[i]\n",
    "                    \n",
    "        self.X_ap_ = np.zeros(10)\n",
    "        \n",
    "        for i in range(10):\n",
    "            self.X_ap_[i] = howManyDigits[i]/y.shape[0]\n",
    "                    \n",
    "        return self\n",
    "\n",
    "\n",
    "    def predict(self, X):\n",
    "        \n",
    "        a_post = np.zeros((X.shape[0]))\n",
    "        cdg = np.zeros((X.shape[0]))\n",
    "        for i in range(X.shape[0]):#gia kathe sample eisodou\n",
    "            probs = np.zeros(10)\n",
    "            for j in range(10):#gia kathe digit \n",
    "                a = 0\n",
    "                for k in range(X[0].shape[0]):#gia ola ta pixel\n",
    "                    cons = 0\n",
    "                    tmp = 0\n",
    "                    cons = math.sqrt(2*math.pi)\n",
    "                    tmp = -(X[i][k]-self.X_mean_[j][k])**2 / 2 -math.log(cons)\n",
    "                    a += tmp\n",
    "\n",
    "                probs[j] =a + math.log(self.X_ap_[j])\n",
    "            cdg[i] = np.argmax(probs)\n",
    "\n",
    "        return cdg\n",
    "\n",
    "    def score(self, X, y):\n",
    "        predictions = self.predict(X)\n",
    "        percentage = 0;\n",
    "        for i in range (y.shape[0]):\n",
    "            if (predictions[i]==int(y[i])):\n",
    "                percentage +=1\n",
    "        return  (percentage/y.shape[0])\n",
    "\n"
   ]
  },
  {
   "cell_type": "markdown",
   "metadata": {},
   "source": [
    "# Ερωτημα 17\n",
    "\n",
    "Παρατηρούμε ότι ο αλγόριθμος KNeighbors και SVM εμφανίζουν πολύ καλύτερα ποσοστά από το Bayes classifier που υλοποιήσμαμε με σ=1."
   ]
  },
  {
   "cell_type": "code",
   "execution_count": 188,
   "metadata": {},
   "outputs": [
    {
     "name": "stdout",
     "output_type": "stream",
     "text": [
      "0.8126557050323866\n"
     ]
    }
   ],
   "source": [
    "new1 = BayesianClassifier1()\n",
    "new1.fit(X_train, y_train)\n",
    "# new.predict(X_test)\n",
    "print(new1.score(X_test,y_test))"
   ]
  },
  {
   "cell_type": "code",
   "execution_count": 189,
   "metadata": {},
   "outputs": [
    {
     "name": "stdout",
     "output_type": "stream",
     "text": [
      "GaussianNB score is 0.7194818136522172\n",
      "KNeighbors score is 0.9446935724962631\n"
     ]
    }
   ],
   "source": [
    "#17\n",
    "from sklearn.naive_bayes import GaussianNB\n",
    "from sklearn.neighbors import KNeighborsClassifier\n",
    "\n",
    "t1 = GaussianNB()\n",
    "t1.fit(X_train, y_train)\n",
    "print(\"GaussianNB score is\", t1.score(X_test, y_test))\n",
    "\n",
    "t2 = KNeighborsClassifier()\n",
    "t2.fit(X_train, y_train)\n",
    "print(\"KNeighbors score is\", t2.score(X_test, y_test))\n",
    "\n"
   ]
  },
  {
   "cell_type": "code",
   "execution_count": 190,
   "metadata": {},
   "outputs": [
    {
     "name": "stderr",
     "output_type": "stream",
     "text": [
      "/home/eliza/anaconda3/lib/python3.6/site-packages/sklearn/svm/base.py:196: FutureWarning: The default value of gamma will change from 'auto' to 'scale' in version 0.22 to account better for unscaled features. Set gamma explicitly to 'auto' or 'scale' to avoid this warning.\n",
      "  \"avoid this warning.\", FutureWarning)\n"
     ]
    },
    {
     "name": "stdout",
     "output_type": "stream",
     "text": [
      "SVM score for kernel poly is 0.9466865969108121\n"
     ]
    },
    {
     "name": "stderr",
     "output_type": "stream",
     "text": [
      "/home/eliza/anaconda3/lib/python3.6/site-packages/sklearn/svm/base.py:196: FutureWarning: The default value of gamma will change from 'auto' to 'scale' in version 0.22 to account better for unscaled features. Set gamma explicitly to 'auto' or 'scale' to avoid this warning.\n",
      "  \"avoid this warning.\", FutureWarning)\n"
     ]
    },
    {
     "name": "stdout",
     "output_type": "stream",
     "text": [
      "SVM score for kernel rbf is 0.9422022919780767\n"
     ]
    },
    {
     "name": "stderr",
     "output_type": "stream",
     "text": [
      "/home/eliza/anaconda3/lib/python3.6/site-packages/sklearn/svm/base.py:196: FutureWarning: The default value of gamma will change from 'auto' to 'scale' in version 0.22 to account better for unscaled features. Set gamma explicitly to 'auto' or 'scale' to avoid this warning.\n",
      "  \"avoid this warning.\", FutureWarning)\n"
     ]
    },
    {
     "name": "stdout",
     "output_type": "stream",
     "text": [
      "SVM score for kernel sigmoid is 0.9147982062780269\n",
      "SVM score for kernel linear is 0.9262580966616841\n"
     ]
    }
   ],
   "source": [
    "from sklearn import svm\n",
    "\n",
    "kernels = ['poly', 'rbf', 'sigmoid', 'linear']\n",
    "\n",
    "for i in range(4):\n",
    "    clf = svm.SVC(kernel = kernels[i])\n",
    "    clf.fit(X_train, y_train)\n",
    "    print(\"SVM score for kernel\", kernels[i], \"is\", clf.score(X_test, y_test))"
   ]
  },
  {
   "cell_type": "markdown",
   "metadata": {},
   "source": [
    "# Ερώτημα 18 \n",
    "\n",
    "Πρέπει να επιλαγεί  μονός αριθμός ταξινομήτων, διότι επειδη στο hard-voting ψηφίζεται από την πλειψηφία ο καλύτερος πρέπει να μπορούμε να έχουμε αποτέλεσμα και αυτό επιτυγχάνεται μόνο με τον μονό αριθμό. "
   ]
  },
  {
   "cell_type": "code",
   "execution_count": 191,
   "metadata": {},
   "outputs": [
    {
     "name": "stdout",
     "output_type": "stream",
     "text": [
      "hard voting score is 0.935226706527155\n",
      "soft voting score is 0.9267563527653214\n"
     ]
    }
   ],
   "source": [
    "#18a\n",
    "from sklearn.ensemble import VotingClassifier\n",
    "from sklearn import warnings\n",
    "\n",
    "eclf1 = VotingClassifier(estimators=[('NB', t1), ('KNN', t2), ('LSVC', clf)], voting='hard')#majority voting for label\n",
    "eclf1.fit(X_train, y_train)\n",
    "print(\"hard voting score is\", eclf1.score(X_test, y_test))\n",
    "clf.set_params(probability=True)\n",
    "eclf2 = VotingClassifier(estimators=[('NB', t1), ('KNN', t2), ('LSVC', clf)], voting='soft')#majority voting for label\n",
    "eclf2.fit(X_train, y_train)\n",
    "print(\"soft voting score is\", eclf2.score(X_test, y_test))\n"
   ]
  },
  {
   "cell_type": "code",
   "execution_count": 192,
   "metadata": {},
   "outputs": [
    {
     "name": "stdout",
     "output_type": "stream",
     "text": [
      "0.7130044843049327\n"
     ]
    }
   ],
   "source": [
    "#18b\n",
    "from sklearn.ensemble import BaggingClassifier\n",
    "\n",
    "bagg = BaggingClassifier(t1, max_samples=0.5, max_features=256)\n",
    "bagg.fit(X_train, y_train)\n",
    "print(bagg.score(X_test, y_test))"
   ]
  },
  {
   "cell_type": "markdown",
   "metadata": {},
   "source": [
    "# Ερωτημα 19"
   ]
  },
  {
   "cell_type": "code",
   "execution_count": 263,
   "metadata": {},
   "outputs": [
    {
     "name": "stdout",
     "output_type": "stream",
     "text": [
      "[[-8.62222741 -4.93906758]\n",
      " [-5.60234487 -3.82682064]\n",
      " [-8.06675996 -4.5324411 ]\n",
      " ...\n",
      " [-7.41203103 -4.41999617]\n",
      " [ 4.066988   -6.69597203]\n",
      " [ 3.43909738 -6.78835871]]\n"
     ]
    },
    {
     "ename": "RuntimeError",
     "evalue": "Expected object of type torch.FloatTensor but found type torch.DoubleTensor for argument #4 'mat1'",
     "output_type": "error",
     "traceback": [
      "\u001b[0;31m---------------------------------------------------------------------------\u001b[0m",
      "\u001b[0;31mRuntimeError\u001b[0m                              Traceback (most recent call last)",
      "\u001b[0;32m<ipython-input-263-2a6a5253c28d>\u001b[0m in \u001b[0;36m<module>\u001b[0;34m\u001b[0m\n\u001b[1;32m    112\u001b[0m         \u001b[0mX_batch\u001b[0m\u001b[0;34m,\u001b[0m \u001b[0my_batch\u001b[0m \u001b[0;34m=\u001b[0m \u001b[0mdata\u001b[0m\u001b[0;34m\u001b[0m\u001b[0m\n\u001b[1;32m    113\u001b[0m         \u001b[0moptimizer\u001b[0m\u001b[0;34m.\u001b[0m\u001b[0mzero_grad\u001b[0m\u001b[0;34m(\u001b[0m\u001b[0;34m)\u001b[0m\u001b[0;34m\u001b[0m\u001b[0m\n\u001b[0;32m--> 114\u001b[0;31m         \u001b[0mout\u001b[0m \u001b[0;34m=\u001b[0m \u001b[0mnet\u001b[0m\u001b[0;34m(\u001b[0m\u001b[0mX_batch\u001b[0m\u001b[0;34m)\u001b[0m\u001b[0;34m\u001b[0m\u001b[0m\n\u001b[0m\u001b[1;32m    115\u001b[0m         \u001b[0mloss\u001b[0m \u001b[0;34m=\u001b[0m \u001b[0mcriterion\u001b[0m\u001b[0;34m(\u001b[0m\u001b[0mout\u001b[0m\u001b[0;34m,\u001b[0m \u001b[0my_batch\u001b[0m\u001b[0;34m)\u001b[0m\u001b[0;34m\u001b[0m\u001b[0m\n\u001b[1;32m    116\u001b[0m         \u001b[0mloss\u001b[0m\u001b[0;34m.\u001b[0m\u001b[0mbackward\u001b[0m\u001b[0;34m(\u001b[0m\u001b[0;34m)\u001b[0m\u001b[0;34m\u001b[0m\u001b[0m\n",
      "\u001b[0;32m~/anaconda3/lib/python3.6/site-packages/torch/nn/modules/module.py\u001b[0m in \u001b[0;36m__call__\u001b[0;34m(self, *input, **kwargs)\u001b[0m\n\u001b[1;32m    475\u001b[0m             \u001b[0mresult\u001b[0m \u001b[0;34m=\u001b[0m \u001b[0mself\u001b[0m\u001b[0;34m.\u001b[0m\u001b[0m_slow_forward\u001b[0m\u001b[0;34m(\u001b[0m\u001b[0;34m*\u001b[0m\u001b[0minput\u001b[0m\u001b[0;34m,\u001b[0m \u001b[0;34m**\u001b[0m\u001b[0mkwargs\u001b[0m\u001b[0;34m)\u001b[0m\u001b[0;34m\u001b[0m\u001b[0m\n\u001b[1;32m    476\u001b[0m         \u001b[0;32melse\u001b[0m\u001b[0;34m:\u001b[0m\u001b[0;34m\u001b[0m\u001b[0m\n\u001b[0;32m--> 477\u001b[0;31m             \u001b[0mresult\u001b[0m \u001b[0;34m=\u001b[0m \u001b[0mself\u001b[0m\u001b[0;34m.\u001b[0m\u001b[0mforward\u001b[0m\u001b[0;34m(\u001b[0m\u001b[0;34m*\u001b[0m\u001b[0minput\u001b[0m\u001b[0;34m,\u001b[0m \u001b[0;34m**\u001b[0m\u001b[0mkwargs\u001b[0m\u001b[0;34m)\u001b[0m\u001b[0;34m\u001b[0m\u001b[0m\n\u001b[0m\u001b[1;32m    478\u001b[0m         \u001b[0;32mfor\u001b[0m \u001b[0mhook\u001b[0m \u001b[0;32min\u001b[0m \u001b[0mself\u001b[0m\u001b[0;34m.\u001b[0m\u001b[0m_forward_hooks\u001b[0m\u001b[0;34m.\u001b[0m\u001b[0mvalues\u001b[0m\u001b[0;34m(\u001b[0m\u001b[0;34m)\u001b[0m\u001b[0;34m:\u001b[0m\u001b[0;34m\u001b[0m\u001b[0m\n\u001b[1;32m    479\u001b[0m             \u001b[0mhook_result\u001b[0m \u001b[0;34m=\u001b[0m \u001b[0mhook\u001b[0m\u001b[0;34m(\u001b[0m\u001b[0mself\u001b[0m\u001b[0;34m,\u001b[0m \u001b[0minput\u001b[0m\u001b[0;34m,\u001b[0m \u001b[0mresult\u001b[0m\u001b[0;34m)\u001b[0m\u001b[0;34m\u001b[0m\u001b[0m\n",
      "\u001b[0;32m<ipython-input-263-2a6a5253c28d>\u001b[0m in \u001b[0;36mforward\u001b[0;34m(self, x)\u001b[0m\n\u001b[1;32m     81\u001b[0m \u001b[0;34m\u001b[0m\u001b[0m\n\u001b[1;32m     82\u001b[0m     \u001b[0;32mdef\u001b[0m \u001b[0mforward\u001b[0m\u001b[0;34m(\u001b[0m\u001b[0mself\u001b[0m\u001b[0;34m,\u001b[0m \u001b[0mx\u001b[0m\u001b[0;34m)\u001b[0m\u001b[0;34m:\u001b[0m\u001b[0;34m\u001b[0m\u001b[0m\n\u001b[0;32m---> 83\u001b[0;31m         \u001b[0my\u001b[0m \u001b[0;34m=\u001b[0m \u001b[0mself\u001b[0m\u001b[0;34m.\u001b[0m\u001b[0mf\u001b[0m\u001b[0;34m(\u001b[0m\u001b[0mx\u001b[0m\u001b[0;34m)\u001b[0m\u001b[0;34m\u001b[0m\u001b[0m\n\u001b[0m\u001b[1;32m     84\u001b[0m         \u001b[0;32mreturn\u001b[0m \u001b[0my\u001b[0m\u001b[0;34m\u001b[0m\u001b[0m\n\u001b[1;32m     85\u001b[0m \u001b[0;34m\u001b[0m\u001b[0m\n",
      "\u001b[0;32m~/anaconda3/lib/python3.6/site-packages/torch/nn/modules/module.py\u001b[0m in \u001b[0;36m__call__\u001b[0;34m(self, *input, **kwargs)\u001b[0m\n\u001b[1;32m    475\u001b[0m             \u001b[0mresult\u001b[0m \u001b[0;34m=\u001b[0m \u001b[0mself\u001b[0m\u001b[0;34m.\u001b[0m\u001b[0m_slow_forward\u001b[0m\u001b[0;34m(\u001b[0m\u001b[0;34m*\u001b[0m\u001b[0minput\u001b[0m\u001b[0;34m,\u001b[0m \u001b[0;34m**\u001b[0m\u001b[0mkwargs\u001b[0m\u001b[0;34m)\u001b[0m\u001b[0;34m\u001b[0m\u001b[0m\n\u001b[1;32m    476\u001b[0m         \u001b[0;32melse\u001b[0m\u001b[0;34m:\u001b[0m\u001b[0;34m\u001b[0m\u001b[0m\n\u001b[0;32m--> 477\u001b[0;31m             \u001b[0mresult\u001b[0m \u001b[0;34m=\u001b[0m \u001b[0mself\u001b[0m\u001b[0;34m.\u001b[0m\u001b[0mforward\u001b[0m\u001b[0;34m(\u001b[0m\u001b[0;34m*\u001b[0m\u001b[0minput\u001b[0m\u001b[0;34m,\u001b[0m \u001b[0;34m**\u001b[0m\u001b[0mkwargs\u001b[0m\u001b[0;34m)\u001b[0m\u001b[0;34m\u001b[0m\u001b[0m\n\u001b[0m\u001b[1;32m    478\u001b[0m         \u001b[0;32mfor\u001b[0m \u001b[0mhook\u001b[0m \u001b[0;32min\u001b[0m \u001b[0mself\u001b[0m\u001b[0;34m.\u001b[0m\u001b[0m_forward_hooks\u001b[0m\u001b[0;34m.\u001b[0m\u001b[0mvalues\u001b[0m\u001b[0;34m(\u001b[0m\u001b[0;34m)\u001b[0m\u001b[0;34m:\u001b[0m\u001b[0;34m\u001b[0m\u001b[0m\n\u001b[1;32m    479\u001b[0m             \u001b[0mhook_result\u001b[0m \u001b[0;34m=\u001b[0m \u001b[0mhook\u001b[0m\u001b[0;34m(\u001b[0m\u001b[0mself\u001b[0m\u001b[0;34m,\u001b[0m \u001b[0minput\u001b[0m\u001b[0;34m,\u001b[0m \u001b[0mresult\u001b[0m\u001b[0;34m)\u001b[0m\u001b[0;34m\u001b[0m\u001b[0m\n",
      "\u001b[0;32m~/anaconda3/lib/python3.6/site-packages/torch/nn/modules/container.py\u001b[0m in \u001b[0;36mforward\u001b[0;34m(self, input)\u001b[0m\n\u001b[1;32m     89\u001b[0m     \u001b[0;32mdef\u001b[0m \u001b[0mforward\u001b[0m\u001b[0;34m(\u001b[0m\u001b[0mself\u001b[0m\u001b[0;34m,\u001b[0m \u001b[0minput\u001b[0m\u001b[0;34m)\u001b[0m\u001b[0;34m:\u001b[0m\u001b[0;34m\u001b[0m\u001b[0m\n\u001b[1;32m     90\u001b[0m         \u001b[0;32mfor\u001b[0m \u001b[0mmodule\u001b[0m \u001b[0;32min\u001b[0m \u001b[0mself\u001b[0m\u001b[0;34m.\u001b[0m\u001b[0m_modules\u001b[0m\u001b[0;34m.\u001b[0m\u001b[0mvalues\u001b[0m\u001b[0;34m(\u001b[0m\u001b[0;34m)\u001b[0m\u001b[0;34m:\u001b[0m\u001b[0;34m\u001b[0m\u001b[0m\n\u001b[0;32m---> 91\u001b[0;31m             \u001b[0minput\u001b[0m \u001b[0;34m=\u001b[0m \u001b[0mmodule\u001b[0m\u001b[0;34m(\u001b[0m\u001b[0minput\u001b[0m\u001b[0;34m)\u001b[0m\u001b[0;34m\u001b[0m\u001b[0m\n\u001b[0m\u001b[1;32m     92\u001b[0m         \u001b[0;32mreturn\u001b[0m \u001b[0minput\u001b[0m\u001b[0;34m\u001b[0m\u001b[0m\n\u001b[1;32m     93\u001b[0m \u001b[0;34m\u001b[0m\u001b[0m\n",
      "\u001b[0;32m~/anaconda3/lib/python3.6/site-packages/torch/nn/modules/module.py\u001b[0m in \u001b[0;36m__call__\u001b[0;34m(self, *input, **kwargs)\u001b[0m\n\u001b[1;32m    475\u001b[0m             \u001b[0mresult\u001b[0m \u001b[0;34m=\u001b[0m \u001b[0mself\u001b[0m\u001b[0;34m.\u001b[0m\u001b[0m_slow_forward\u001b[0m\u001b[0;34m(\u001b[0m\u001b[0;34m*\u001b[0m\u001b[0minput\u001b[0m\u001b[0;34m,\u001b[0m \u001b[0;34m**\u001b[0m\u001b[0mkwargs\u001b[0m\u001b[0;34m)\u001b[0m\u001b[0;34m\u001b[0m\u001b[0m\n\u001b[1;32m    476\u001b[0m         \u001b[0;32melse\u001b[0m\u001b[0;34m:\u001b[0m\u001b[0;34m\u001b[0m\u001b[0m\n\u001b[0;32m--> 477\u001b[0;31m             \u001b[0mresult\u001b[0m \u001b[0;34m=\u001b[0m \u001b[0mself\u001b[0m\u001b[0;34m.\u001b[0m\u001b[0mforward\u001b[0m\u001b[0;34m(\u001b[0m\u001b[0;34m*\u001b[0m\u001b[0minput\u001b[0m\u001b[0;34m,\u001b[0m \u001b[0;34m**\u001b[0m\u001b[0mkwargs\u001b[0m\u001b[0;34m)\u001b[0m\u001b[0;34m\u001b[0m\u001b[0m\n\u001b[0m\u001b[1;32m    478\u001b[0m         \u001b[0;32mfor\u001b[0m \u001b[0mhook\u001b[0m \u001b[0;32min\u001b[0m \u001b[0mself\u001b[0m\u001b[0;34m.\u001b[0m\u001b[0m_forward_hooks\u001b[0m\u001b[0;34m.\u001b[0m\u001b[0mvalues\u001b[0m\u001b[0;34m(\u001b[0m\u001b[0;34m)\u001b[0m\u001b[0;34m:\u001b[0m\u001b[0;34m\u001b[0m\u001b[0m\n\u001b[1;32m    479\u001b[0m             \u001b[0mhook_result\u001b[0m \u001b[0;34m=\u001b[0m \u001b[0mhook\u001b[0m\u001b[0;34m(\u001b[0m\u001b[0mself\u001b[0m\u001b[0;34m,\u001b[0m \u001b[0minput\u001b[0m\u001b[0;34m,\u001b[0m \u001b[0mresult\u001b[0m\u001b[0;34m)\u001b[0m\u001b[0;34m\u001b[0m\u001b[0m\n",
      "\u001b[0;32m<ipython-input-263-2a6a5253c28d>\u001b[0m in \u001b[0;36mforward\u001b[0;34m(self, x)\u001b[0m\n\u001b[1;32m     68\u001b[0m \u001b[0;34m\u001b[0m\u001b[0m\n\u001b[1;32m     69\u001b[0m     \u001b[0;32mdef\u001b[0m \u001b[0mforward\u001b[0m\u001b[0;34m(\u001b[0m\u001b[0mself\u001b[0m\u001b[0;34m,\u001b[0m \u001b[0mx\u001b[0m\u001b[0;34m)\u001b[0m\u001b[0;34m:\u001b[0m\u001b[0;34m\u001b[0m\u001b[0m\n\u001b[0;32m---> 70\u001b[0;31m         \u001b[0;32mreturn\u001b[0m \u001b[0mself\u001b[0m\u001b[0;34m.\u001b[0m\u001b[0ma\u001b[0m\u001b[0;34m(\u001b[0m\u001b[0mself\u001b[0m\u001b[0;34m.\u001b[0m\u001b[0mf\u001b[0m\u001b[0;34m(\u001b[0m\u001b[0mx\u001b[0m\u001b[0;34m)\u001b[0m\u001b[0;34m)\u001b[0m\u001b[0;34m\u001b[0m\u001b[0m\n\u001b[0m\u001b[1;32m     71\u001b[0m \u001b[0;34m\u001b[0m\u001b[0m\n\u001b[1;32m     72\u001b[0m \u001b[0;32mclass\u001b[0m \u001b[0mMyFunnyNet\u001b[0m\u001b[0;34m(\u001b[0m\u001b[0mnn\u001b[0m\u001b[0;34m.\u001b[0m\u001b[0mModule\u001b[0m\u001b[0;34m)\u001b[0m\u001b[0;34m:\u001b[0m\u001b[0;34m\u001b[0m\u001b[0m\n",
      "\u001b[0;32m~/anaconda3/lib/python3.6/site-packages/torch/nn/modules/module.py\u001b[0m in \u001b[0;36m__call__\u001b[0;34m(self, *input, **kwargs)\u001b[0m\n\u001b[1;32m    475\u001b[0m             \u001b[0mresult\u001b[0m \u001b[0;34m=\u001b[0m \u001b[0mself\u001b[0m\u001b[0;34m.\u001b[0m\u001b[0m_slow_forward\u001b[0m\u001b[0;34m(\u001b[0m\u001b[0;34m*\u001b[0m\u001b[0minput\u001b[0m\u001b[0;34m,\u001b[0m \u001b[0;34m**\u001b[0m\u001b[0mkwargs\u001b[0m\u001b[0;34m)\u001b[0m\u001b[0;34m\u001b[0m\u001b[0m\n\u001b[1;32m    476\u001b[0m         \u001b[0;32melse\u001b[0m\u001b[0;34m:\u001b[0m\u001b[0;34m\u001b[0m\u001b[0m\n\u001b[0;32m--> 477\u001b[0;31m             \u001b[0mresult\u001b[0m \u001b[0;34m=\u001b[0m \u001b[0mself\u001b[0m\u001b[0;34m.\u001b[0m\u001b[0mforward\u001b[0m\u001b[0;34m(\u001b[0m\u001b[0;34m*\u001b[0m\u001b[0minput\u001b[0m\u001b[0;34m,\u001b[0m \u001b[0;34m**\u001b[0m\u001b[0mkwargs\u001b[0m\u001b[0;34m)\u001b[0m\u001b[0;34m\u001b[0m\u001b[0m\n\u001b[0m\u001b[1;32m    478\u001b[0m         \u001b[0;32mfor\u001b[0m \u001b[0mhook\u001b[0m \u001b[0;32min\u001b[0m \u001b[0mself\u001b[0m\u001b[0;34m.\u001b[0m\u001b[0m_forward_hooks\u001b[0m\u001b[0;34m.\u001b[0m\u001b[0mvalues\u001b[0m\u001b[0;34m(\u001b[0m\u001b[0;34m)\u001b[0m\u001b[0;34m:\u001b[0m\u001b[0;34m\u001b[0m\u001b[0m\n\u001b[1;32m    479\u001b[0m             \u001b[0mhook_result\u001b[0m \u001b[0;34m=\u001b[0m \u001b[0mhook\u001b[0m\u001b[0;34m(\u001b[0m\u001b[0mself\u001b[0m\u001b[0;34m,\u001b[0m \u001b[0minput\u001b[0m\u001b[0;34m,\u001b[0m \u001b[0mresult\u001b[0m\u001b[0;34m)\u001b[0m\u001b[0;34m\u001b[0m\u001b[0m\n",
      "\u001b[0;32m~/anaconda3/lib/python3.6/site-packages/torch/nn/modules/linear.py\u001b[0m in \u001b[0;36mforward\u001b[0;34m(self, input)\u001b[0m\n\u001b[1;32m     53\u001b[0m \u001b[0;34m\u001b[0m\u001b[0m\n\u001b[1;32m     54\u001b[0m     \u001b[0;32mdef\u001b[0m \u001b[0mforward\u001b[0m\u001b[0;34m(\u001b[0m\u001b[0mself\u001b[0m\u001b[0;34m,\u001b[0m \u001b[0minput\u001b[0m\u001b[0;34m)\u001b[0m\u001b[0;34m:\u001b[0m\u001b[0;34m\u001b[0m\u001b[0m\n\u001b[0;32m---> 55\u001b[0;31m         \u001b[0;32mreturn\u001b[0m \u001b[0mF\u001b[0m\u001b[0;34m.\u001b[0m\u001b[0mlinear\u001b[0m\u001b[0;34m(\u001b[0m\u001b[0minput\u001b[0m\u001b[0;34m,\u001b[0m \u001b[0mself\u001b[0m\u001b[0;34m.\u001b[0m\u001b[0mweight\u001b[0m\u001b[0;34m,\u001b[0m \u001b[0mself\u001b[0m\u001b[0;34m.\u001b[0m\u001b[0mbias\u001b[0m\u001b[0;34m)\u001b[0m\u001b[0;34m\u001b[0m\u001b[0m\n\u001b[0m\u001b[1;32m     56\u001b[0m \u001b[0;34m\u001b[0m\u001b[0m\n\u001b[1;32m     57\u001b[0m     \u001b[0;32mdef\u001b[0m \u001b[0mextra_repr\u001b[0m\u001b[0;34m(\u001b[0m\u001b[0mself\u001b[0m\u001b[0;34m)\u001b[0m\u001b[0;34m:\u001b[0m\u001b[0;34m\u001b[0m\u001b[0m\n",
      "\u001b[0;32m~/anaconda3/lib/python3.6/site-packages/torch/nn/functional.py\u001b[0m in \u001b[0;36mlinear\u001b[0;34m(input, weight, bias)\u001b[0m\n\u001b[1;32m   1022\u001b[0m     \u001b[0;32mif\u001b[0m \u001b[0minput\u001b[0m\u001b[0;34m.\u001b[0m\u001b[0mdim\u001b[0m\u001b[0;34m(\u001b[0m\u001b[0;34m)\u001b[0m \u001b[0;34m==\u001b[0m \u001b[0;36m2\u001b[0m \u001b[0;32mand\u001b[0m \u001b[0mbias\u001b[0m \u001b[0;32mis\u001b[0m \u001b[0;32mnot\u001b[0m \u001b[0;32mNone\u001b[0m\u001b[0;34m:\u001b[0m\u001b[0;34m\u001b[0m\u001b[0m\n\u001b[1;32m   1023\u001b[0m         \u001b[0;31m# fused op is marginally faster\u001b[0m\u001b[0;34m\u001b[0m\u001b[0;34m\u001b[0m\u001b[0m\n\u001b[0;32m-> 1024\u001b[0;31m         \u001b[0;32mreturn\u001b[0m \u001b[0mtorch\u001b[0m\u001b[0;34m.\u001b[0m\u001b[0maddmm\u001b[0m\u001b[0;34m(\u001b[0m\u001b[0mbias\u001b[0m\u001b[0;34m,\u001b[0m \u001b[0minput\u001b[0m\u001b[0;34m,\u001b[0m \u001b[0mweight\u001b[0m\u001b[0;34m.\u001b[0m\u001b[0mt\u001b[0m\u001b[0;34m(\u001b[0m\u001b[0;34m)\u001b[0m\u001b[0;34m)\u001b[0m\u001b[0;34m\u001b[0m\u001b[0m\n\u001b[0m\u001b[1;32m   1025\u001b[0m \u001b[0;34m\u001b[0m\u001b[0m\n\u001b[1;32m   1026\u001b[0m     \u001b[0moutput\u001b[0m \u001b[0;34m=\u001b[0m \u001b[0minput\u001b[0m\u001b[0;34m.\u001b[0m\u001b[0mmatmul\u001b[0m\u001b[0;34m(\u001b[0m\u001b[0mweight\u001b[0m\u001b[0;34m.\u001b[0m\u001b[0mt\u001b[0m\u001b[0;34m(\u001b[0m\u001b[0;34m)\u001b[0m\u001b[0;34m)\u001b[0m\u001b[0;34m\u001b[0m\u001b[0m\n",
      "\u001b[0;31mRuntimeError\u001b[0m: Expected object of type torch.FloatTensor but found type torch.DoubleTensor for argument #4 'mat1'"
     ]
    }
   ],
   "source": [
    "import torch\n",
    "import numpy as np\n",
    "\n",
    "from sklearn.datasets import make_blobs\n",
    "\n",
    "X, y = make_blobs(n_samples=10000, n_features=2)\n",
    "print(X)\n",
    "\n",
    "from torch.utils.data import Dataset\n",
    "\n",
    "class BlobData(Dataset):\n",
    "    def __init__(self, X, y, trans=None):\n",
    "        self.data = list(zip(X, y))\n",
    "        self.trans = trans\n",
    "        \n",
    "    def __len__(self):\n",
    "        return len(self.data)\n",
    "    \n",
    "    def __getitem__(self, idx):\n",
    "        if self.trans is not None:\n",
    "            return self.trans(self.data[idx])\n",
    "            print(self.data[idx])\n",
    "        else:\n",
    "            return self.data[idx]\n",
    "            print(self.data[idx])\n",
    "\n",
    "from torchvision import transforms\n",
    "\n",
    "class GaussianNoise(object):\n",
    "    def __init__(self, std=0.1, mean=0.0):\n",
    "        self.mean = mean\n",
    "        self.std = std\n",
    "        \n",
    "    def __call__(self, datum):\n",
    "        x, y = datum[0], datum[1]\n",
    "        return x + (self.std * np.random.randn(2) + self.mean), y\n",
    "\n",
    "class ToTensor(object):\n",
    "    def __init__(self):\n",
    "          pass\n",
    "        \n",
    "    def __call__(self, datum):\n",
    "        x, y = datum[0], datum[1]\n",
    "#         print(x,y)\n",
    "        t = torch.from_numpy(x).type(torch.FloatTensor) \n",
    "        t.requires_grad = True\n",
    "        return t, y\n",
    "\n",
    "my_transform = transforms.Compose([GaussianNoise()]) #, ToTensor()])\n",
    "\n",
    "blob_dataset = BlobData(X, y, trans=my_transform)\n",
    "\n",
    "len(blob_dataset)\n",
    "\n",
    "blob_dataset[100]\n",
    "\n",
    "import torch.nn as nn\n",
    "import torch.nn.functional as F\n",
    "\n",
    "class LinearWActivation(nn.Module):\n",
    "    def __init__(self, in_features, out_features, activation='sigmoid'):\n",
    "        super(LinearWActivation, self).__init__()\n",
    "        self.f = nn.Linear(in_features, out_features)\n",
    "        if activation == 'sigmoid':\n",
    "            self.a = nn.Sigmoid()\n",
    "        else:\n",
    "            self.a = nn.ReLU()\n",
    "            \n",
    "    def forward(self, x):\n",
    "        return self.a(self.f(x))\n",
    "\n",
    "class MyFunnyNet(nn.Module):\n",
    "    def __init__(self, layers, n_features, n_classes, activation='sigmoid'):\n",
    "        super(MyFunnyNet, self).__init__()\n",
    "        layers_in = [n_features] + layers \n",
    "        layers_out = layers + [n_classes]\n",
    "        self.f = nn.Sequential(*[\n",
    "            LinearWActivation(in_feats, out_feats, activation=activation)\n",
    "            for in_feats, out_feats in zip(layers_in, layers_out)\n",
    "        ])\n",
    "                \n",
    "    def forward(self, x):\n",
    "        y = self.f(x)\n",
    "        return y\n",
    "\n",
    "import torch.optim as optim\n",
    "\n",
    "EPOCHS = 30\n",
    "BATCH_SZ = 32\n",
    "\n",
    "criterion = nn.CrossEntropyLoss()\n",
    "net = MyFunnyNet([100, 100], X.shape[1], len(set(y)))\n",
    "\n",
    "optimizer = optim.SGD(list(net.parameters()), lr=1e-2)\n",
    "\n",
    "from sklearn.model_selection import train_test_split\n",
    "\n",
    "X_train, X_test, y_train, y_test = train_test_split(X, y, test_size=0.33)\n",
    "\n",
    "train_data = BlobData(X_train, y_train, trans=my_transform)\n",
    "test_data = BlobData(X_test, y_test, trans=my_transform)\n",
    "\n",
    "from torch.utils.data import DataLoader\n",
    "\n",
    "train_dl = DataLoader(train_data, batch_size=BATCH_SZ)\n",
    "test_dl = DataLoader(test_data, batch_size=BATCH_SZ)\n",
    "\n",
    "net.train()\n",
    "for epoch in range(EPOCHS):\n",
    "    running_average_loss = 0\n",
    "    for i, data in enumerate(train_dl):\n",
    "        X_batch, y_batch = data\n",
    "        optimizer.zero_grad()\n",
    "        out = net(X_batch)\n",
    "        loss = criterion(out, y_batch)\n",
    "        loss.backward()\n",
    "        optimizer.step()\n",
    "        \n",
    "        running_average_loss += loss.detach().item()\n",
    "        if i % 100 == 0:\n",
    "            print(\"Epoch: {} \\t Batch: {} \\t Loss {}\".format(epoch, i, float(running_average_loss) / (i + 1)))\n",
    "\n"
   ]
  },
  {
   "cell_type": "code",
   "execution_count": 247,
   "metadata": {},
   "outputs": [],
   "source": [
    "#19a\n",
    "#reading the dataset\n",
    "#our dataset should inherit Class Dataset and override\n",
    "from torch.utils.data import Dataset, DataLoader\n",
    "import torch\n",
    "\n",
    "class DigitData(Dataset):\n",
    "    def __init__(self, X, y, trans=None):\n",
    "        self.data = list(zip(X, y))\n",
    "        self.trans = trans\n",
    "    def __len__(self):\n",
    "        return len(self.data)\n",
    "    \n",
    "    def __getitem__(self, idx):#reading each digit of the samples\n",
    "        if self.trans is not None:\n",
    "            return self.trans(self.data[idx])\n",
    "        else:\n",
    "            return self.data[idx]\n",
    "            print(self.data[idx])\n",
    "\n",
    "class Normalize(object):\n",
    "    def __init__(self):\n",
    "        pmean = np.zeros(256)\n",
    "        pstd = np.zeros(256)\n",
    "        for i in range(256):\n",
    "            pmean[i] = np.mean(X[::][i])\n",
    "            pstd[i] = np.std(X[::][i])\n",
    "        self.mean = pmean\n",
    "        self.std = pstd\n",
    "    \n",
    "    def __call__(self, datum):\n",
    "        x, y = datum[0], datum[1]\n",
    "        for i in range(256):\n",
    "            x[i] = (x[i] - self.mean[i])/self.std[i]\n",
    "        return x, y\n",
    "\n",
    "class ToTensor(object):\n",
    "    def __init__(self):\n",
    "          pass\n",
    "        \n",
    "    def __call__(self, datum):\n",
    "        x, y = datum[0], datum[1]\n",
    "        t = torch.from_numpy(x).type(torch.FloatTensor) \n",
    "        return t, y\n",
    "    "
   ]
  },
  {
   "cell_type": "code",
   "execution_count": 248,
   "metadata": {},
   "outputs": [],
   "source": [
    "from sklearn import preprocessing\n",
    "from torchvision import transforms"
   ]
  },
  {
   "cell_type": "code",
   "execution_count": 261,
   "metadata": {},
   "outputs": [
    {
     "name": "stdout",
     "output_type": "stream",
     "text": [
      "(tensor([  14.1494,    7.4946,    8.8929,   11.5417,    2.2089,    9.6772,\n",
      "           2.6110,   47.9061,    4.6724,    9.9201,    2.7941,    1.5122,\n",
      "          29.2295,    4.5422,   16.4612,  141.2413,    1.1038,   12.6025,\n",
      "          19.5932,    2.8986,    9.6105, 3091.8018,    3.5340,  111.3885,\n",
      "           6.4342,    3.5375,    2.6842,    8.7842,    2.4630,    5.4569,\n",
      "           5.0726,    3.9751,   52.6287,    8.9871,    8.2010,   20.6885,\n",
      "          24.6377,    2.0999,   16.2101,   26.8124,   43.5284,    8.3642,\n",
      "          55.7714,    1.4991,    6.8344,    7.9558,    9.8585,    7.7616,\n",
      "          41.9873,    1.8258,    4.0990,   11.7268,  110.8389,   11.2727,\n",
      "           9.9831,    1.9901,   33.8353,   76.7088,    1.2641,  113.6315,\n",
      "           3.0735,   42.2887,    6.7813,   14.3663,   12.0385,    1.2170,\n",
      "          15.6502,    8.7469,   11.4151,    1.7916,    2.1697,    2.3930,\n",
      "           7.3708,    1.0189,    1.5101,   13.4966,   26.8299,    6.6379,\n",
      "           8.9976,    8.1422,    4.9502,  122.6111,   10.9845,   13.4852,\n",
      "           2.0239,   89.0181,    1.4727,    0.5605,   12.5343,    6.2902,\n",
      "          12.9887,    3.7078,   24.1381,    2.0486,    8.1457,   39.0253,\n",
      "           6.8104,   93.4094,    2.9504,    6.1102,   59.7834,    7.0379,\n",
      "           4.9871,   30.8072,   11.8572, 1706.3594,   20.3081,    4.0938,\n",
      "           2.1560,    7.1861,    1.5196,    1.2103,    2.3785,    1.1863,\n",
      "          25.5593,    2.5748,    2.7027,    3.5531,   11.5944,   14.9092,\n",
      "          17.6336,   52.0520,  105.3991,   15.1855,    7.3882,  138.6493,\n",
      "           2.1297,   18.0659,   19.1037,    3.2885,    4.4131,    8.9306,\n",
      "           2.6646,  237.0434,    1.6127,  117.2284,   11.6093,    4.5605,\n",
      "           8.0611,  142.8085,    7.1457,    2.2663,    9.4531,    8.7349,\n",
      "          31.6064,    1.5010,   15.4769,   14.8938,   14.2241,    6.8774,\n",
      "           9.8200,    1.6432,   16.5231,   16.2471,    2.9988,    1.5307,\n",
      "           1.4362,   13.6049,    4.7717,   64.2954,    8.3823,    1.7785,\n",
      "           1.8927,    1.8612,    3.6906,    3.0794,    6.3458,    1.8237,\n",
      "         216.4336,    3.0511,    5.7365,    1.2817,    1.1233,    6.5127,\n",
      "           1.7080,   13.2650,    0.9320,    1.1428,    5.3977,    9.9131,\n",
      "           1.6516,    1.8892,    2.9516,   22.5079,   19.5140,    3.4248,\n",
      "           9.4294,   13.4134,   47.9147,    0.8471,    1.4666,    1.1329,\n",
      "          32.4070,    3.6089,    2.5623,   12.7404,    1.8429,   14.9799,\n",
      "           1.2885,   47.3591,    1.7556,    4.1679,    4.2582,    4.0816,\n",
      "          55.4319,   19.7149,    1.4090,    0.9412,    4.8171,    4.7470,\n",
      "         134.5604,    3.5432,   37.5718,   28.1841,    3.3754,   51.9183,\n",
      "           2.5165,   11.3098,    5.9079,    2.9276,   14.8639,    1.5240,\n",
      "           1.8199,   13.8348,    2.2745,    1.0338,   12.9147,   15.0092,\n",
      "           1.0432,   13.7862,    6.1754,    2.3203,    2.3970,    7.0556,\n",
      "           6.4084,    7.5192,   17.9484,    0.6873,   14.9055,   86.9192,\n",
      "          17.2735,    2.5578,   27.2975,   63.1787,    9.4354,    7.0165,\n",
      "           2.1434,    9.1385,    5.9252,   17.7121,    6.0122,    1.7199,\n",
      "          15.2126,   10.5777,   58.0926,    6.0784]), 9.0)\n"
     ]
    }
   ],
   "source": [
    "#preprocessing our dataset\n",
    "#tensor converts numpy images to torch images\n",
    "\n",
    "my_transform = transforms.Compose([Normalize(), ToTensor()])\n",
    "\n",
    "digit_train = DigitData(X_train, y_train, trans = my_transform) #iterates easily\n",
    "digit_test = DigitData(X_test, y_test, trans = my_transform)\n",
    "\n",
    "# print(digit_test[0])"
   ]
  },
  {
   "cell_type": "code",
   "execution_count": 250,
   "metadata": {},
   "outputs": [],
   "source": [
    "#19b\n",
    "#activation functions are used for mapping the output of neural nets between a range\n",
    "\n",
    "import torchvision\n",
    "import torch.nn as nn\n",
    "import torch.nn.functional as F\n",
    "\n",
    "class LinearWActivation(nn.Module):\n",
    "    def __init__(self, in_features, out_features, activation='sigmoid'):\n",
    "        super(LinearWActivation, self).__init__()\n",
    "        self.f = nn.Linear(in_features, out_features)#linear transformation to incoming data\n",
    "        if activation == 'sigmoid':\n",
    "            self.act = nn.Sigmoid()\n",
    "        # elif activation == 'tanh':\n",
    "        else:\n",
    "            self.act = nn.ReLU()\n",
    "            \n",
    "    def forward(self, x):\n",
    "        return self.act(self.f(x))\n",
    "\n",
    "class NeuralNet(nn.Module):\n",
    "    def __init__(self, layers, n_features, n_classes, activation='sigmoid'):\n",
    "        super(Net, self).__init__()\n",
    "        layers_in = [n_features] + layers \n",
    "        layers_out = layers + [n_classes]\n",
    "        self.f = nn.Sequential(*[LinearWActivation(in_feats, out_feats, activation=activation)\n",
    "                                 for in_feats, out_feats in zip(layers_in, layers_out)])\n",
    "                \n",
    "    def forward(self, x):\n",
    "        y = self.f(x)\n",
    "        return y"
   ]
  },
  {
   "cell_type": "code",
   "execution_count": 254,
   "metadata": {},
   "outputs": [],
   "source": [
    "EPOCHS = 10\n",
    "BATCH_SZ = 32\n",
    "\n",
    "criterion = nn.CrossEntropyLoss()\n",
    "net = Net([100, 100], X.shape[1], len(set(y)))\n",
    "\n",
    "#DataLoader is an iteratorfor batching,suffling\n",
    "dl_train = DataLoader(digit_train, batch_size = BATCH_SZ)\n",
    "dl_test = DataLoader(digit_test, batch_size = BATCH_SZ)"
   ]
  },
  {
   "cell_type": "code",
   "execution_count": 255,
   "metadata": {},
   "outputs": [],
   "source": [
    "import torch.optim as optim\n",
    "\n",
    "optimizer = optim.SGD(list(net.parameters()), lr=1e-2)"
   ]
  },
  {
   "cell_type": "code",
   "execution_count": 259,
   "metadata": {},
   "outputs": [
    {
     "name": "stdout",
     "output_type": "stream",
     "text": [
      "tensor([[  332.4163,    50.2634,    39.3482,  ...,    89.0139, 60385.0625,\n",
      "            30.0862],\n",
      "        [  332.4163,    50.2634,    39.3482,  ...,    90.5371, 61916.9570,\n",
      "            30.0862],\n",
      "        [  332.4163,    50.2634,    39.3482,  ...,    89.0139, 60385.0625,\n",
      "            30.0862],\n",
      "        ...,\n",
      "        [  332.4163,    50.2634,    39.3482,  ...,    89.0139, 60385.0625,\n",
      "            30.0862],\n",
      "        [  332.4163,    50.2634,    39.3482,  ...,    89.0417, 60385.0625,\n",
      "            30.0862],\n",
      "        [  332.4163,    50.2634,    39.3482,  ...,    89.0139, 60385.0625,\n",
      "            30.0862]]) tensor([6., 5., 4., 7., 3., 6., 3., 1., 0., 1., 7., 0., 1., 1., 7., 7., 4., 8.,\n",
      "        0., 1., 4., 8., 7., 4., 8., 7., 3., 7., 4., 1., 3., 6.],\n",
      "       dtype=torch.float64)\n"
     ]
    },
    {
     "ename": "RuntimeError",
     "evalue": "size mismatch, m1: [32 x 256], m2: [2 x 100] at /opt/conda/conda-bld/pytorch_1533672544752/work/aten/src/TH/generic/THTensorMath.cpp:2070",
     "output_type": "error",
     "traceback": [
      "\u001b[0;31m---------------------------------------------------------------------------\u001b[0m",
      "\u001b[0;31mRuntimeError\u001b[0m                              Traceback (most recent call last)",
      "\u001b[0;32m<ipython-input-259-75dbe8dec374>\u001b[0m in \u001b[0;36m<module>\u001b[0;34m\u001b[0m\n\u001b[1;32m      6\u001b[0m         \u001b[0mprint\u001b[0m\u001b[0;34m(\u001b[0m\u001b[0mX_batch\u001b[0m\u001b[0;34m,\u001b[0m \u001b[0my_batch\u001b[0m\u001b[0;34m)\u001b[0m\u001b[0;34m\u001b[0m\u001b[0m\n\u001b[1;32m      7\u001b[0m         \u001b[0moptimizer\u001b[0m\u001b[0;34m.\u001b[0m\u001b[0mzero_grad\u001b[0m\u001b[0;34m(\u001b[0m\u001b[0;34m)\u001b[0m\u001b[0;34m\u001b[0m\u001b[0m\n\u001b[0;32m----> 8\u001b[0;31m         \u001b[0mout\u001b[0m \u001b[0;34m=\u001b[0m \u001b[0mnet\u001b[0m\u001b[0;34m(\u001b[0m\u001b[0mX_batch\u001b[0m\u001b[0;34m)\u001b[0m\u001b[0;34m\u001b[0m\u001b[0m\n\u001b[0m\u001b[1;32m      9\u001b[0m         \u001b[0mloss\u001b[0m \u001b[0;34m=\u001b[0m \u001b[0mcriterion\u001b[0m\u001b[0;34m(\u001b[0m\u001b[0mout\u001b[0m\u001b[0;34m,\u001b[0m \u001b[0my_batch\u001b[0m\u001b[0;34m)\u001b[0m\u001b[0;34m\u001b[0m\u001b[0m\n\u001b[1;32m     10\u001b[0m         \u001b[0mloss\u001b[0m\u001b[0;34m.\u001b[0m\u001b[0mbackward\u001b[0m\u001b[0;34m(\u001b[0m\u001b[0;34m)\u001b[0m\u001b[0;34m\u001b[0m\u001b[0m\n",
      "\u001b[0;32m~/anaconda3/lib/python3.6/site-packages/torch/nn/modules/module.py\u001b[0m in \u001b[0;36m__call__\u001b[0;34m(self, *input, **kwargs)\u001b[0m\n\u001b[1;32m    475\u001b[0m             \u001b[0mresult\u001b[0m \u001b[0;34m=\u001b[0m \u001b[0mself\u001b[0m\u001b[0;34m.\u001b[0m\u001b[0m_slow_forward\u001b[0m\u001b[0;34m(\u001b[0m\u001b[0;34m*\u001b[0m\u001b[0minput\u001b[0m\u001b[0;34m,\u001b[0m \u001b[0;34m**\u001b[0m\u001b[0mkwargs\u001b[0m\u001b[0;34m)\u001b[0m\u001b[0;34m\u001b[0m\u001b[0m\n\u001b[1;32m    476\u001b[0m         \u001b[0;32melse\u001b[0m\u001b[0;34m:\u001b[0m\u001b[0;34m\u001b[0m\u001b[0m\n\u001b[0;32m--> 477\u001b[0;31m             \u001b[0mresult\u001b[0m \u001b[0;34m=\u001b[0m \u001b[0mself\u001b[0m\u001b[0;34m.\u001b[0m\u001b[0mforward\u001b[0m\u001b[0;34m(\u001b[0m\u001b[0;34m*\u001b[0m\u001b[0minput\u001b[0m\u001b[0;34m,\u001b[0m \u001b[0;34m**\u001b[0m\u001b[0mkwargs\u001b[0m\u001b[0;34m)\u001b[0m\u001b[0;34m\u001b[0m\u001b[0m\n\u001b[0m\u001b[1;32m    478\u001b[0m         \u001b[0;32mfor\u001b[0m \u001b[0mhook\u001b[0m \u001b[0;32min\u001b[0m \u001b[0mself\u001b[0m\u001b[0;34m.\u001b[0m\u001b[0m_forward_hooks\u001b[0m\u001b[0;34m.\u001b[0m\u001b[0mvalues\u001b[0m\u001b[0;34m(\u001b[0m\u001b[0;34m)\u001b[0m\u001b[0;34m:\u001b[0m\u001b[0;34m\u001b[0m\u001b[0m\n\u001b[1;32m    479\u001b[0m             \u001b[0mhook_result\u001b[0m \u001b[0;34m=\u001b[0m \u001b[0mhook\u001b[0m\u001b[0;34m(\u001b[0m\u001b[0mself\u001b[0m\u001b[0;34m,\u001b[0m \u001b[0minput\u001b[0m\u001b[0;34m,\u001b[0m \u001b[0mresult\u001b[0m\u001b[0;34m)\u001b[0m\u001b[0;34m\u001b[0m\u001b[0m\n",
      "\u001b[0;32m<ipython-input-74-8f38966b4396>\u001b[0m in \u001b[0;36mforward\u001b[0;34m(self, x)\u001b[0m\n\u001b[1;32m     28\u001b[0m \u001b[0;34m\u001b[0m\u001b[0m\n\u001b[1;32m     29\u001b[0m     \u001b[0;32mdef\u001b[0m \u001b[0mforward\u001b[0m\u001b[0;34m(\u001b[0m\u001b[0mself\u001b[0m\u001b[0;34m,\u001b[0m \u001b[0mx\u001b[0m\u001b[0;34m)\u001b[0m\u001b[0;34m:\u001b[0m\u001b[0;34m\u001b[0m\u001b[0m\n\u001b[0;32m---> 30\u001b[0;31m         \u001b[0my\u001b[0m \u001b[0;34m=\u001b[0m \u001b[0mself\u001b[0m\u001b[0;34m.\u001b[0m\u001b[0mf\u001b[0m\u001b[0;34m(\u001b[0m\u001b[0mx\u001b[0m\u001b[0;34m)\u001b[0m\u001b[0;34m\u001b[0m\u001b[0m\n\u001b[0m\u001b[1;32m     31\u001b[0m         \u001b[0;32mreturn\u001b[0m \u001b[0my\u001b[0m\u001b[0;34m\u001b[0m\u001b[0m\n",
      "\u001b[0;32m~/anaconda3/lib/python3.6/site-packages/torch/nn/modules/module.py\u001b[0m in \u001b[0;36m__call__\u001b[0;34m(self, *input, **kwargs)\u001b[0m\n\u001b[1;32m    475\u001b[0m             \u001b[0mresult\u001b[0m \u001b[0;34m=\u001b[0m \u001b[0mself\u001b[0m\u001b[0;34m.\u001b[0m\u001b[0m_slow_forward\u001b[0m\u001b[0;34m(\u001b[0m\u001b[0;34m*\u001b[0m\u001b[0minput\u001b[0m\u001b[0;34m,\u001b[0m \u001b[0;34m**\u001b[0m\u001b[0mkwargs\u001b[0m\u001b[0;34m)\u001b[0m\u001b[0;34m\u001b[0m\u001b[0m\n\u001b[1;32m    476\u001b[0m         \u001b[0;32melse\u001b[0m\u001b[0;34m:\u001b[0m\u001b[0;34m\u001b[0m\u001b[0m\n\u001b[0;32m--> 477\u001b[0;31m             \u001b[0mresult\u001b[0m \u001b[0;34m=\u001b[0m \u001b[0mself\u001b[0m\u001b[0;34m.\u001b[0m\u001b[0mforward\u001b[0m\u001b[0;34m(\u001b[0m\u001b[0;34m*\u001b[0m\u001b[0minput\u001b[0m\u001b[0;34m,\u001b[0m \u001b[0;34m**\u001b[0m\u001b[0mkwargs\u001b[0m\u001b[0;34m)\u001b[0m\u001b[0;34m\u001b[0m\u001b[0m\n\u001b[0m\u001b[1;32m    478\u001b[0m         \u001b[0;32mfor\u001b[0m \u001b[0mhook\u001b[0m \u001b[0;32min\u001b[0m \u001b[0mself\u001b[0m\u001b[0;34m.\u001b[0m\u001b[0m_forward_hooks\u001b[0m\u001b[0;34m.\u001b[0m\u001b[0mvalues\u001b[0m\u001b[0;34m(\u001b[0m\u001b[0;34m)\u001b[0m\u001b[0;34m:\u001b[0m\u001b[0;34m\u001b[0m\u001b[0m\n\u001b[1;32m    479\u001b[0m             \u001b[0mhook_result\u001b[0m \u001b[0;34m=\u001b[0m \u001b[0mhook\u001b[0m\u001b[0;34m(\u001b[0m\u001b[0mself\u001b[0m\u001b[0;34m,\u001b[0m \u001b[0minput\u001b[0m\u001b[0;34m,\u001b[0m \u001b[0mresult\u001b[0m\u001b[0;34m)\u001b[0m\u001b[0;34m\u001b[0m\u001b[0m\n",
      "\u001b[0;32m~/anaconda3/lib/python3.6/site-packages/torch/nn/modules/container.py\u001b[0m in \u001b[0;36mforward\u001b[0;34m(self, input)\u001b[0m\n\u001b[1;32m     89\u001b[0m     \u001b[0;32mdef\u001b[0m \u001b[0mforward\u001b[0m\u001b[0;34m(\u001b[0m\u001b[0mself\u001b[0m\u001b[0;34m,\u001b[0m \u001b[0minput\u001b[0m\u001b[0;34m)\u001b[0m\u001b[0;34m:\u001b[0m\u001b[0;34m\u001b[0m\u001b[0m\n\u001b[1;32m     90\u001b[0m         \u001b[0;32mfor\u001b[0m \u001b[0mmodule\u001b[0m \u001b[0;32min\u001b[0m \u001b[0mself\u001b[0m\u001b[0;34m.\u001b[0m\u001b[0m_modules\u001b[0m\u001b[0;34m.\u001b[0m\u001b[0mvalues\u001b[0m\u001b[0;34m(\u001b[0m\u001b[0;34m)\u001b[0m\u001b[0;34m:\u001b[0m\u001b[0;34m\u001b[0m\u001b[0m\n\u001b[0;32m---> 91\u001b[0;31m             \u001b[0minput\u001b[0m \u001b[0;34m=\u001b[0m \u001b[0mmodule\u001b[0m\u001b[0;34m(\u001b[0m\u001b[0minput\u001b[0m\u001b[0;34m)\u001b[0m\u001b[0;34m\u001b[0m\u001b[0m\n\u001b[0m\u001b[1;32m     92\u001b[0m         \u001b[0;32mreturn\u001b[0m \u001b[0minput\u001b[0m\u001b[0;34m\u001b[0m\u001b[0m\n\u001b[1;32m     93\u001b[0m \u001b[0;34m\u001b[0m\u001b[0m\n",
      "\u001b[0;32m~/anaconda3/lib/python3.6/site-packages/torch/nn/modules/module.py\u001b[0m in \u001b[0;36m__call__\u001b[0;34m(self, *input, **kwargs)\u001b[0m\n\u001b[1;32m    475\u001b[0m             \u001b[0mresult\u001b[0m \u001b[0;34m=\u001b[0m \u001b[0mself\u001b[0m\u001b[0;34m.\u001b[0m\u001b[0m_slow_forward\u001b[0m\u001b[0;34m(\u001b[0m\u001b[0;34m*\u001b[0m\u001b[0minput\u001b[0m\u001b[0;34m,\u001b[0m \u001b[0;34m**\u001b[0m\u001b[0mkwargs\u001b[0m\u001b[0;34m)\u001b[0m\u001b[0;34m\u001b[0m\u001b[0m\n\u001b[1;32m    476\u001b[0m         \u001b[0;32melse\u001b[0m\u001b[0;34m:\u001b[0m\u001b[0;34m\u001b[0m\u001b[0m\n\u001b[0;32m--> 477\u001b[0;31m             \u001b[0mresult\u001b[0m \u001b[0;34m=\u001b[0m \u001b[0mself\u001b[0m\u001b[0;34m.\u001b[0m\u001b[0mforward\u001b[0m\u001b[0;34m(\u001b[0m\u001b[0;34m*\u001b[0m\u001b[0minput\u001b[0m\u001b[0;34m,\u001b[0m \u001b[0;34m**\u001b[0m\u001b[0mkwargs\u001b[0m\u001b[0;34m)\u001b[0m\u001b[0;34m\u001b[0m\u001b[0m\n\u001b[0m\u001b[1;32m    478\u001b[0m         \u001b[0;32mfor\u001b[0m \u001b[0mhook\u001b[0m \u001b[0;32min\u001b[0m \u001b[0mself\u001b[0m\u001b[0;34m.\u001b[0m\u001b[0m_forward_hooks\u001b[0m\u001b[0;34m.\u001b[0m\u001b[0mvalues\u001b[0m\u001b[0;34m(\u001b[0m\u001b[0;34m)\u001b[0m\u001b[0;34m:\u001b[0m\u001b[0;34m\u001b[0m\u001b[0m\n\u001b[1;32m    479\u001b[0m             \u001b[0mhook_result\u001b[0m \u001b[0;34m=\u001b[0m \u001b[0mhook\u001b[0m\u001b[0;34m(\u001b[0m\u001b[0mself\u001b[0m\u001b[0;34m,\u001b[0m \u001b[0minput\u001b[0m\u001b[0;34m,\u001b[0m \u001b[0mresult\u001b[0m\u001b[0;34m)\u001b[0m\u001b[0;34m\u001b[0m\u001b[0m\n",
      "\u001b[0;32m<ipython-input-250-5a40fbbcb7fd>\u001b[0m in \u001b[0;36mforward\u001b[0;34m(self, x)\u001b[0m\n\u001b[1;32m     17\u001b[0m \u001b[0;34m\u001b[0m\u001b[0m\n\u001b[1;32m     18\u001b[0m     \u001b[0;32mdef\u001b[0m \u001b[0mforward\u001b[0m\u001b[0;34m(\u001b[0m\u001b[0mself\u001b[0m\u001b[0;34m,\u001b[0m \u001b[0mx\u001b[0m\u001b[0;34m)\u001b[0m\u001b[0;34m:\u001b[0m\u001b[0;34m\u001b[0m\u001b[0m\n\u001b[0;32m---> 19\u001b[0;31m         \u001b[0;32mreturn\u001b[0m \u001b[0mself\u001b[0m\u001b[0;34m.\u001b[0m\u001b[0mact\u001b[0m\u001b[0;34m(\u001b[0m\u001b[0mself\u001b[0m\u001b[0;34m.\u001b[0m\u001b[0mf\u001b[0m\u001b[0;34m(\u001b[0m\u001b[0mx\u001b[0m\u001b[0;34m)\u001b[0m\u001b[0;34m)\u001b[0m\u001b[0;34m\u001b[0m\u001b[0m\n\u001b[0m\u001b[1;32m     20\u001b[0m \u001b[0;34m\u001b[0m\u001b[0m\n\u001b[1;32m     21\u001b[0m \u001b[0;32mclass\u001b[0m \u001b[0mNeuralNet\u001b[0m\u001b[0;34m(\u001b[0m\u001b[0mnn\u001b[0m\u001b[0;34m.\u001b[0m\u001b[0mModule\u001b[0m\u001b[0;34m)\u001b[0m\u001b[0;34m:\u001b[0m\u001b[0;34m\u001b[0m\u001b[0m\n",
      "\u001b[0;32m~/anaconda3/lib/python3.6/site-packages/torch/nn/modules/module.py\u001b[0m in \u001b[0;36m__call__\u001b[0;34m(self, *input, **kwargs)\u001b[0m\n\u001b[1;32m    475\u001b[0m             \u001b[0mresult\u001b[0m \u001b[0;34m=\u001b[0m \u001b[0mself\u001b[0m\u001b[0;34m.\u001b[0m\u001b[0m_slow_forward\u001b[0m\u001b[0;34m(\u001b[0m\u001b[0;34m*\u001b[0m\u001b[0minput\u001b[0m\u001b[0;34m,\u001b[0m \u001b[0;34m**\u001b[0m\u001b[0mkwargs\u001b[0m\u001b[0;34m)\u001b[0m\u001b[0;34m\u001b[0m\u001b[0m\n\u001b[1;32m    476\u001b[0m         \u001b[0;32melse\u001b[0m\u001b[0;34m:\u001b[0m\u001b[0;34m\u001b[0m\u001b[0m\n\u001b[0;32m--> 477\u001b[0;31m             \u001b[0mresult\u001b[0m \u001b[0;34m=\u001b[0m \u001b[0mself\u001b[0m\u001b[0;34m.\u001b[0m\u001b[0mforward\u001b[0m\u001b[0;34m(\u001b[0m\u001b[0;34m*\u001b[0m\u001b[0minput\u001b[0m\u001b[0;34m,\u001b[0m \u001b[0;34m**\u001b[0m\u001b[0mkwargs\u001b[0m\u001b[0;34m)\u001b[0m\u001b[0;34m\u001b[0m\u001b[0m\n\u001b[0m\u001b[1;32m    478\u001b[0m         \u001b[0;32mfor\u001b[0m \u001b[0mhook\u001b[0m \u001b[0;32min\u001b[0m \u001b[0mself\u001b[0m\u001b[0;34m.\u001b[0m\u001b[0m_forward_hooks\u001b[0m\u001b[0;34m.\u001b[0m\u001b[0mvalues\u001b[0m\u001b[0;34m(\u001b[0m\u001b[0;34m)\u001b[0m\u001b[0;34m:\u001b[0m\u001b[0;34m\u001b[0m\u001b[0m\n\u001b[1;32m    479\u001b[0m             \u001b[0mhook_result\u001b[0m \u001b[0;34m=\u001b[0m \u001b[0mhook\u001b[0m\u001b[0;34m(\u001b[0m\u001b[0mself\u001b[0m\u001b[0;34m,\u001b[0m \u001b[0minput\u001b[0m\u001b[0;34m,\u001b[0m \u001b[0mresult\u001b[0m\u001b[0;34m)\u001b[0m\u001b[0;34m\u001b[0m\u001b[0m\n",
      "\u001b[0;32m~/anaconda3/lib/python3.6/site-packages/torch/nn/modules/linear.py\u001b[0m in \u001b[0;36mforward\u001b[0;34m(self, input)\u001b[0m\n\u001b[1;32m     53\u001b[0m \u001b[0;34m\u001b[0m\u001b[0m\n\u001b[1;32m     54\u001b[0m     \u001b[0;32mdef\u001b[0m \u001b[0mforward\u001b[0m\u001b[0;34m(\u001b[0m\u001b[0mself\u001b[0m\u001b[0;34m,\u001b[0m \u001b[0minput\u001b[0m\u001b[0;34m)\u001b[0m\u001b[0;34m:\u001b[0m\u001b[0;34m\u001b[0m\u001b[0m\n\u001b[0;32m---> 55\u001b[0;31m         \u001b[0;32mreturn\u001b[0m \u001b[0mF\u001b[0m\u001b[0;34m.\u001b[0m\u001b[0mlinear\u001b[0m\u001b[0;34m(\u001b[0m\u001b[0minput\u001b[0m\u001b[0;34m,\u001b[0m \u001b[0mself\u001b[0m\u001b[0;34m.\u001b[0m\u001b[0mweight\u001b[0m\u001b[0;34m,\u001b[0m \u001b[0mself\u001b[0m\u001b[0;34m.\u001b[0m\u001b[0mbias\u001b[0m\u001b[0;34m)\u001b[0m\u001b[0;34m\u001b[0m\u001b[0m\n\u001b[0m\u001b[1;32m     56\u001b[0m \u001b[0;34m\u001b[0m\u001b[0m\n\u001b[1;32m     57\u001b[0m     \u001b[0;32mdef\u001b[0m \u001b[0mextra_repr\u001b[0m\u001b[0;34m(\u001b[0m\u001b[0mself\u001b[0m\u001b[0;34m)\u001b[0m\u001b[0;34m:\u001b[0m\u001b[0;34m\u001b[0m\u001b[0m\n",
      "\u001b[0;32m~/anaconda3/lib/python3.6/site-packages/torch/nn/functional.py\u001b[0m in \u001b[0;36mlinear\u001b[0;34m(input, weight, bias)\u001b[0m\n\u001b[1;32m   1022\u001b[0m     \u001b[0;32mif\u001b[0m \u001b[0minput\u001b[0m\u001b[0;34m.\u001b[0m\u001b[0mdim\u001b[0m\u001b[0;34m(\u001b[0m\u001b[0;34m)\u001b[0m \u001b[0;34m==\u001b[0m \u001b[0;36m2\u001b[0m \u001b[0;32mand\u001b[0m \u001b[0mbias\u001b[0m \u001b[0;32mis\u001b[0m \u001b[0;32mnot\u001b[0m \u001b[0;32mNone\u001b[0m\u001b[0;34m:\u001b[0m\u001b[0;34m\u001b[0m\u001b[0m\n\u001b[1;32m   1023\u001b[0m         \u001b[0;31m# fused op is marginally faster\u001b[0m\u001b[0;34m\u001b[0m\u001b[0;34m\u001b[0m\u001b[0m\n\u001b[0;32m-> 1024\u001b[0;31m         \u001b[0;32mreturn\u001b[0m \u001b[0mtorch\u001b[0m\u001b[0;34m.\u001b[0m\u001b[0maddmm\u001b[0m\u001b[0;34m(\u001b[0m\u001b[0mbias\u001b[0m\u001b[0;34m,\u001b[0m \u001b[0minput\u001b[0m\u001b[0;34m,\u001b[0m \u001b[0mweight\u001b[0m\u001b[0;34m.\u001b[0m\u001b[0mt\u001b[0m\u001b[0;34m(\u001b[0m\u001b[0;34m)\u001b[0m\u001b[0;34m)\u001b[0m\u001b[0;34m\u001b[0m\u001b[0m\n\u001b[0m\u001b[1;32m   1025\u001b[0m \u001b[0;34m\u001b[0m\u001b[0m\n\u001b[1;32m   1026\u001b[0m     \u001b[0moutput\u001b[0m \u001b[0;34m=\u001b[0m \u001b[0minput\u001b[0m\u001b[0;34m.\u001b[0m\u001b[0mmatmul\u001b[0m\u001b[0;34m(\u001b[0m\u001b[0mweight\u001b[0m\u001b[0;34m.\u001b[0m\u001b[0mt\u001b[0m\u001b[0;34m(\u001b[0m\u001b[0;34m)\u001b[0m\u001b[0;34m)\u001b[0m\u001b[0;34m\u001b[0m\u001b[0m\n",
      "\u001b[0;31mRuntimeError\u001b[0m: size mismatch, m1: [32 x 256], m2: [2 x 100] at /opt/conda/conda-bld/pytorch_1533672544752/work/aten/src/TH/generic/THTensorMath.cpp:2070"
     ]
    }
   ],
   "source": [
    "net.train()\n",
    "for epoch in range(EPOCHS):\n",
    "    running_average_loss = 0\n",
    "    for i, data in enumerate(dl_train):\n",
    "        X_batch, y_batch = data\n",
    "        print(X_batch, y_batch)\n",
    "        optimizer.zero_grad()\n",
    "        out = net(X_batch)\n",
    "        loss = criterion(out, y_batch)\n",
    "        loss.backward()\n",
    "        optimizer.step()\n",
    "        \n",
    "        running_average_loss += loss.detach().item()\n",
    "        if i % 100 == 0:\n",
    "            print(\"Epoch: {} \\t Batch: {} \\t Loss {}\".format(epoch, i, float(running_average_loss) / (i + 1)))"
   ]
  },
  {
   "cell_type": "code",
   "execution_count": null,
   "metadata": {},
   "outputs": [],
   "source": [
    "#19c"
   ]
  }
 ],
 "metadata": {
  "kernelspec": {
   "display_name": "Python 3",
   "language": "python",
   "name": "python3"
  },
  "language_info": {
   "codemirror_mode": {
    "name": "ipython",
    "version": 3
   },
   "file_extension": ".py",
   "mimetype": "text/x-python",
   "name": "python",
   "nbconvert_exporter": "python",
   "pygments_lexer": "ipython3",
   "version": "3.7.0"
  }
 },
 "nbformat": 4,
 "nbformat_minor": 2
}
